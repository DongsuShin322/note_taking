{
 "cells": [
  {
   "cell_type": "markdown",
   "metadata": {},
   "source": [
    "### Generator : Iterator 를 생성해주는 function"
   ]
  },
  {
   "cell_type": "raw",
   "metadata": {},
   "source": [
    "Iterable 의 의미는 member를 하나씩 차례로 반환 가능한 object 이다.\n",
    "    ex) list, string, tuple"
   ]
  },
  {
   "cell_type": "raw",
   "metadata": {},
   "source": [
    "Iterator 는 next() 메소드로 데이터를 순차적으로 호출 가능한 object 이다."
   ]
  },
  {
   "cell_type": "raw",
   "metadata": {},
   "source": [
    "Q) Iterable한 object들은 Iterator 인가?\n",
    "A) No!\n",
    "    next(list) : error\n",
    "    iter(list) : list -> list_iterator"
   ]
  },
  {
   "cell_type": "raw",
   "metadata": {},
   "source": [
    "yield 를 만나면 값을 반환 후 함수가 정지되며 메모리에 유지 - 데이터 지속 사용 가능\n",
    "loop 문에 의해 generator 함수가 재호출 시 yield 이후 구문부터 실행"
   ]
  },
  {
   "cell_type": "code",
   "execution_count": 117,
   "metadata": {},
   "outputs": [
    {
     "name": "stdout",
     "output_type": "stream",
     "text": [
      "0\n",
      "1\n",
      "2\n",
      "3\n",
      "4\n"
     ]
    }
   ],
   "source": [
    "def generator(n):\n",
    "    i = 0\n",
    "    while i < n:\n",
    "        yield i\n",
    "        i += 1\n",
    "\n",
    "for x in generator(5):\n",
    "    print (x)"
   ]
  },
  {
   "cell_type": "code",
   "execution_count": 107,
   "metadata": {},
   "outputs": [],
   "source": [
    "def square_numbers1(nums):\n",
    "    result = []\n",
    "    for i in nums:\n",
    "        result.append(i * i)\n",
    "    return result"
   ]
  },
  {
   "cell_type": "code",
   "execution_count": 114,
   "metadata": {},
   "outputs": [
    {
     "name": "stdout",
     "output_type": "stream",
     "text": [
      "8697464\n"
     ]
    }
   ],
   "source": [
    "# 일반 함수 : 리턴할 모든 값을 메모리에 저장\n",
    "my_nums = square_numbers1(list(range(1000000)))\n",
    "print (sys.getsizeof(my_nums))"
   ]
  },
  {
   "cell_type": "code",
   "execution_count": 109,
   "metadata": {},
   "outputs": [],
   "source": [
    "def square_numbers2(nums):\n",
    "    for i in nums:\n",
    "        yield i * i"
   ]
  },
  {
   "cell_type": "code",
   "execution_count": 115,
   "metadata": {},
   "outputs": [
    {
     "name": "stdout",
     "output_type": "stream",
     "text": [
      "88\n"
     ]
    }
   ],
   "source": [
    "# 제너레이터 : 한 번 호출 시 하나의 값만을 전달\n",
    "my_nums = square_numbers2(list(range(1000000)))\n",
    "print (sys.getsizeof(my_nums))"
   ]
  },
  {
   "cell_type": "markdown",
   "metadata": {},
   "source": [
    "### Decorator : 대상 함수를 wrapping하고, 추가 기능 구현하고 싶을 때"
   ]
  },
  {
   "cell_type": "raw",
   "metadata": {},
   "source": [
    "사전 개념\n",
    "\n",
    "@ 파이썬 - First Class Function  "
   ]
  },
  {
   "cell_type": "raw",
   "metadata": {},
   "source": [
    "1. 함수를 변수에 할당 가능"
   ]
  },
  {
   "cell_type": "code",
   "execution_count": 123,
   "metadata": {},
   "outputs": [
    {
     "data": {
      "text/plain": [
       "25"
      ]
     },
     "execution_count": 123,
     "metadata": {},
     "output_type": "execute_result"
    }
   ],
   "source": [
    "def square(x) :\n",
    "    return x * x\n",
    "\n",
    "func = square\n",
    "func(5)"
   ]
  },
  {
   "cell_type": "raw",
   "metadata": {},
   "source": [
    "2. 함수를 함수의 인자로 전달 가능"
   ]
  },
  {
   "cell_type": "code",
   "execution_count": 124,
   "metadata": {},
   "outputs": [
    {
     "data": {
      "text/plain": [
       "[1, 4, 9]"
      ]
     },
     "execution_count": 124,
     "metadata": {},
     "output_type": "execute_result"
    }
   ],
   "source": [
    "def my_func(func, arg_list):\n",
    "    result = []\n",
    "    for i in arg_list:\n",
    "        result.append(func(i))\n",
    "    return result    \n",
    "\n",
    "my_func(square, [1,2,3]) "
   ]
  },
  {
   "cell_type": "raw",
   "metadata": {},
   "source": [
    "3. 함수를 다른 함수 내에서 정의 가능 & 함수의 결과값을 다른 함수로 리턴 가능"
   ]
  },
  {
   "cell_type": "code",
   "execution_count": 133,
   "metadata": {},
   "outputs": [
    {
     "name": "stdout",
     "output_type": "stream",
     "text": [
      "Log : Hello\n"
     ]
    }
   ],
   "source": [
    "def log(msg):  \n",
    "    def log_message(): \n",
    "        print(\"Log :\", msg)  \n",
    "    return log_message\n",
    "\n",
    "result = log('Hello')\n",
    "result()"
   ]
  },
  {
   "cell_type": "raw",
   "metadata": {},
   "source": [
    "@ 클로저\n",
    "내부 함수가 외부 함수의 인자를 기억하고 있음"
   ]
  },
  {
   "cell_type": "raw",
   "metadata": {},
   "source": [
    "@ 위치 인자(*agrs)와 키워드 인자(**kwargs)\n",
    "위치 인자 : 위치에 따라 정해지는 인자\n",
    "키워드 인자 : 이름을 가진 인자"
   ]
  },
  {
   "cell_type": "code",
   "execution_count": 136,
   "metadata": {},
   "outputs": [
    {
     "name": "stdout",
     "output_type": "stream",
     "text": [
      "('ming', 'alice', 'tom')\n",
      "{'fifth': 'roy', 'fourth': 'wilson'}\n"
     ]
    }
   ],
   "source": [
    "def save_ranking(*args, **kwargs):\n",
    "    print (args)\n",
    "    print (kwargs)\n",
    "\n",
    "save_ranking('ming', 'alice', 'tom', fourth='wilson', fifth='roy')    "
   ]
  },
  {
   "cell_type": "code",
   "execution_count": 141,
   "metadata": {},
   "outputs": [],
   "source": [
    "def display_1():\n",
    "    print ('display_1 함수가 실행중입니다.')\n",
    "    \n",
    "def display_2(num, process):\n",
    "    print ('display_{0} 함수가 {1}입니다.'.format(num, process))"
   ]
  },
  {
   "cell_type": "code",
   "execution_count": 149,
   "metadata": {},
   "outputs": [
    {
     "name": "stdout",
     "output_type": "stream",
     "text": [
      "display_1함수가 실행되기전입니다.\n",
      "display_1 함수가 실행중입니다.\n",
      "display_1함수가 종료되었습니다.\n",
      "display_2함수가 실행되기전입니다.\n",
      "display_2 함수가 실행중입니다.\n",
      "display_2함수가 종료되었습니다.\n"
     ]
    }
   ],
   "source": [
    "def decorator(func):\n",
    "    def wrapper(*args, **kwargs):\n",
    "        print (func.__name__ + '함수가 실행되기전입니다.')\n",
    "        func(*args, **kwargs)\n",
    "        print (func.__name__ + '함수가 종료되었습니다.')\n",
    "    return wrapper\n",
    "\n",
    "@decorator\n",
    "def display_1():\n",
    "    print ('display_1 함수가 실행중입니다.')\n",
    "    \n",
    "@decorator\n",
    "def display_2(num, process):\n",
    "    print ('display_{0} 함수가 {1}입니다.'.format(num, process))\n",
    "    \n",
    "display_1()\n",
    "display_2(2, '실행중')"
   ]
  },
  {
   "cell_type": "markdown",
   "metadata": {},
   "source": [
    "### Multiprocessing 모듈"
   ]
  },
  {
   "cell_type": "code",
   "execution_count": 197,
   "metadata": {},
   "outputs": [],
   "source": [
    "from multiprocessing import Pool"
   ]
  },
  {
   "cell_type": "code",
   "execution_count": 214,
   "metadata": {},
   "outputs": [],
   "source": [
    "def fibo(n):\n",
    "    if n == 0:\n",
    "        return 0\n",
    "    elif n == 1:\n",
    "        return 1\n",
    "    else:\n",
    "        return fibo(n-1) + fibo(n-2)"
   ]
  },
  {
   "cell_type": "code",
   "execution_count": 206,
   "metadata": {},
   "outputs": [],
   "source": [
    "num_list = [31,32,33,34]"
   ]
  },
  {
   "cell_type": "code",
   "execution_count": 207,
   "metadata": {},
   "outputs": [],
   "source": [
    "result_list = []"
   ]
  },
  {
   "cell_type": "code",
   "execution_count": 215,
   "metadata": {},
   "outputs": [
    {
     "name": "stdout",
     "output_type": "stream",
     "text": [
      "--- 5.150572299957275 seconds ---\n"
     ]
    }
   ],
   "source": [
    "start_time = time.time()\n",
    "for num in num_list:\n",
    "    result_list.append(fibo(num))\n",
    "print(\"--- %s seconds ---\" % (time.time() - start_time))   "
   ]
  },
  {
   "cell_type": "code",
   "execution_count": 216,
   "metadata": {},
   "outputs": [
    {
     "name": "stdout",
     "output_type": "stream",
     "text": [
      "--- 3.2692711353302 seconds ---\n"
     ]
    }
   ],
   "source": [
    "start_time = time.time()\n",
    "pool = Pool(processes=4) \n",
    "pool.map(fibo, num_list) \n",
    "print(\"--- %s seconds ---\" % (time.time() - start_time))"
   ]
  }
 ],
 "metadata": {
  "anaconda-cloud": {},
  "kernelspec": {
   "display_name": "Python [conda root]",
   "language": "python",
   "name": "conda-root-py"
  },
  "language_info": {
   "codemirror_mode": {
    "name": "ipython",
    "version": 3
   },
   "file_extension": ".py",
   "mimetype": "text/x-python",
   "name": "python",
   "nbconvert_exporter": "python",
   "pygments_lexer": "ipython3",
   "version": "3.5.2"
  }
 },
 "nbformat": 4,
 "nbformat_minor": 1
}
