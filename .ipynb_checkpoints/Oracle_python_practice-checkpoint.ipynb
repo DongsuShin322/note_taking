{
 "cells": [
  {
   "cell_type": "markdown",
   "metadata": {},
   "source": [
    "# 12/11 (MON)"
   ]
  },
  {
   "cell_type": "markdown",
   "metadata": {},
   "source": [
    "## Python - 모든 것이 객체이다!!"
   ]
  },
  {
   "cell_type": "markdown",
   "metadata": {},
   "source": [
    "## 대소문자 구분"
   ]
  },
  {
   "cell_type": "markdown",
   "metadata": {},
   "source": [
    "### #!/usr/bin/python : 실행파일 경로\n",
    "### # -*- coding: utf-8 -*- : 소스코드 인코딩 명시"
   ]
  },
  {
   "cell_type": "markdown",
   "metadata": {},
   "source": [
    "## print"
   ]
  },
  {
   "cell_type": "code",
   "execution_count": null,
   "metadata": {},
   "outputs": [],
   "source": [
    "print (\"\\t탭\\n다음줄\") # 정규식 반영"
   ]
  },
  {
   "cell_type": "code",
   "execution_count": null,
   "metadata": {},
   "outputs": [],
   "source": [
    "print (r\"\\t탭\\n다음줄\") # r은 row의 약자로 정규식 반영 안하고“ ~ ” 그대로 실행"
   ]
  },
  {
   "cell_type": "markdown",
   "metadata": {},
   "source": [
    "## String"
   ]
  },
  {
   "cell_type": "code",
   "execution_count": null,
   "metadata": {},
   "outputs": [],
   "source": [
    "\"py\"\"thon\" # “python”으로 합침"
   ]
  },
  {
   "cell_type": "code",
   "execution_count": null,
   "metadata": {},
   "outputs": [],
   "source": [
    "a = \"python\"\n",
    "a[0] = \"a\" # 문자열은 불변객체이므로 변경 불가능"
   ]
  },
  {
   "cell_type": "markdown",
   "metadata": {},
   "source": [
    "## Unicode"
   ]
  },
  {
   "cell_type": "code",
   "execution_count": null,
   "metadata": {},
   "outputs": [],
   "source": [
    "ord(\"a\") # 문자에 해당하는 유니코드 확인"
   ]
  },
  {
   "cell_type": "code",
   "execution_count": null,
   "metadata": {},
   "outputs": [],
   "source": [
    "chr(97)  # 해당 문자로 반환"
   ]
  },
  {
   "cell_type": "markdown",
   "metadata": {},
   "source": [
    "## List\n",
    "### for x, y in enumerate(list)"
   ]
  },
  {
   "cell_type": "code",
   "execution_count": null,
   "metadata": {},
   "outputs": [],
   "source": [
    "a = [\"apple\", \"banana\", \"orange\"]"
   ]
  },
  {
   "cell_type": "code",
   "execution_count": null,
   "metadata": {},
   "outputs": [],
   "source": [
    "a.append(\"grape\") # 맨 뒤에 값 추가\n",
    "a"
   ]
  },
  {
   "cell_type": "code",
   "execution_count": null,
   "metadata": {},
   "outputs": [],
   "source": [
    "a.insert(1, \"mango\") # 원하는 위치에 하나의 값 추가\n",
    "a"
   ]
  },
  {
   "cell_type": "code",
   "execution_count": null,
   "metadata": {},
   "outputs": [],
   "source": [
    "a.extend([\"melon\",\"peach\",\"mango\"]) # 맨 뒤에 여러개의 값 추가\n",
    "a"
   ]
  },
  {
   "cell_type": "code",
   "execution_count": null,
   "metadata": {},
   "outputs": [],
   "source": [
    "a.index(\"mango\",2) # 해당 값에 해당하는 인덱스 중 원하는 위치의 인덱스 출력"
   ]
  },
  {
   "cell_type": "code",
   "execution_count": null,
   "metadata": {},
   "outputs": [],
   "source": [
    "a.count(\"mango\") # 개수 카운트"
   ]
  },
  {
   "cell_type": "code",
   "execution_count": null,
   "metadata": {},
   "outputs": [],
   "source": [
    "a.pop(3) # 해당 인덱스의 값 뽑아내고 원래 리스트에서 삭제\n",
    "a"
   ]
  },
  {
   "cell_type": "code",
   "execution_count": null,
   "metadata": {},
   "outputs": [],
   "source": [
    "a.remove(\"apple\") # 원하는 값 리스트에서 삭제\n",
    "a"
   ]
  },
  {
   "cell_type": "code",
   "execution_count": null,
   "metadata": {},
   "outputs": [],
   "source": [
    "a.sort() # forward sorting\n",
    "a"
   ]
  },
  {
   "cell_type": "code",
   "execution_count": null,
   "metadata": {},
   "outputs": [],
   "source": [
    "a.reverse() # backward sorting\n",
    "a"
   ]
  },
  {
   "cell_type": "code",
   "execution_count": null,
   "metadata": {
    "scrolled": true
   },
   "outputs": [],
   "source": [
    "def mysort(x): # 마지막 글자를 기준으로 정렬\n",
    "    return x[-1]\n",
    "a.sort(key=mysort)\n",
    "a"
   ]
  },
  {
   "cell_type": "markdown",
   "metadata": {},
   "source": [
    "## tip : 리스트에서 중복된 원소 지우기"
   ]
  },
  {
   "cell_type": "code",
   "execution_count": null,
   "metadata": {
    "scrolled": true
   },
   "outputs": [],
   "source": [
    "# method_1 : set으로 바꾸고 다시 리스트로 변환\n",
    "myList = [1, 2, 3, 1, 2, 5, 6, 7, 8]\n",
    "print (list(set(myList)))\n",
    "\n",
    "# method_2 : 빈 리스트 생성해서 unique한 원소만 넣기\n",
    "myList = [1, 2, 3, 1, 2, 5, 6, 7, 8]\n",
    "cleanlist = []\n",
    "for x in myList:\n",
    "    if x not in cleanlist:\n",
    "        cleanlist.append(x)\n",
    "print (cleanlist)\n",
    "        \n",
    "# method_3 : numpy에서 unique function 이용하기\n",
    "myList = [1, 2, 3, 1, 2, 5, 6, 7, 8]\n",
    "print (np.unique(myList).tolist())"
   ]
  },
  {
   "cell_type": "markdown",
   "metadata": {},
   "source": [
    "## Set : 집합과 동일하며 순서가 없음(유일한 값, 정렬X, index 없음)"
   ]
  },
  {
   "cell_type": "markdown",
   "metadata": {},
   "source": [
    "## Tuple : 리스트와 동일하나 읽기 전용(index 존재)"
   ]
  },
  {
   "cell_type": "markdown",
   "metadata": {},
   "source": [
    "## Dictionary : key 와 value로 구성 (key:value)"
   ]
  },
  {
   "cell_type": "code",
   "execution_count": null,
   "metadata": {},
   "outputs": [],
   "source": [
    "d = {\"a\":\"apple\",\"b\":\"banana\",\"c\":\"carrot\"}\n",
    "d.items() # key 와 value를 tuple로 반환"
   ]
  },
  {
   "cell_type": "markdown",
   "metadata": {},
   "source": [
    "## 0 : False , 나머지 : True로 인식"
   ]
  },
  {
   "cell_type": "markdown",
   "metadata": {},
   "source": [
    "## [1,2,3] 객체 하나를 a, b 가 같이 참조\n",
    "## (하나만 바꾸어도 둘이 동시에 바뀜)"
   ]
  },
  {
   "cell_type": "code",
   "execution_count": null,
   "metadata": {},
   "outputs": [],
   "source": [
    "a = [1,2,3] \n",
    "b = a\n",
    "b[2] = \"a\"\n",
    "a"
   ]
  },
  {
   "cell_type": "markdown",
   "metadata": {},
   "source": [
    "## 서로 영향을 안주는 다른 객체를 생성하고 싶으면\n",
    "### b = a[:] - copy 한다"
   ]
  },
  {
   "cell_type": "code",
   "execution_count": null,
   "metadata": {},
   "outputs": [],
   "source": []
  },
  {
   "cell_type": "markdown",
   "metadata": {},
   "source": [
    "# 12/12 (TUE)"
   ]
  },
  {
   "cell_type": "markdown",
   "metadata": {},
   "source": [
    "## Function\n",
    "## 함수도 객체다(참조)"
   ]
  },
  {
   "cell_type": "code",
   "execution_count": null,
   "metadata": {},
   "outputs": [],
   "source": [
    "def Times (a, b) :\n",
    "\treturn (a*b)\n",
    "myTimes = Times\n",
    "myTimes(10, 10)"
   ]
  },
  {
   "cell_type": "code",
   "execution_count": null,
   "metadata": {},
   "outputs": [],
   "source": [
    "def swap(x,y):\n",
    "    return y,x\n",
    "swap(1,2)"
   ]
  },
  {
   "cell_type": "code",
   "execution_count": null,
   "metadata": {},
   "outputs": [],
   "source": [
    "def setValue(newValue):\n",
    "    x = newValue\n",
    "retval = setValue(10)    \n",
    "print (retval)"
   ]
  },
  {
   "cell_type": "code",
   "execution_count": null,
   "metadata": {},
   "outputs": [],
   "source": [
    "a = 10\n",
    "def isZero(arg1):\n",
    "    return arg1 == 0\n",
    "isZero(a)"
   ]
  },
  {
   "cell_type": "code",
   "execution_count": null,
   "metadata": {},
   "outputs": [],
   "source": [
    "wordlist = [\"a\",\"b\",\"c\"]\n",
    "def change(x):\n",
    "    x[0] = \"d\"\n",
    "change(wordlist)\n",
    "wordlist"
   ]
  },
  {
   "cell_type": "code",
   "execution_count": null,
   "metadata": {},
   "outputs": [],
   "source": [
    "wordlist = [\"a\",\"b\",\"c\"]\n",
    "def change2(x):\n",
    "    x = x[:]\n",
    "    x[0] = \"d\"\n",
    "change2(wordlist)\n",
    "wordlist"
   ]
  },
  {
   "cell_type": "code",
   "execution_count": null,
   "metadata": {},
   "outputs": [],
   "source": [
    "def Times(a=10, b=20):\n",
    "    return a*b"
   ]
  },
  {
   "cell_type": "markdown",
   "metadata": {},
   "source": [
    "## 가변 인수"
   ]
  },
  {
   "cell_type": "code",
   "execution_count": null,
   "metadata": {},
   "outputs": [],
   "source": [
    "def union2(*ar): # *ar : 갯수가 정해지지 않은 인수를 tuple 형태로 전달\n",
    "    res=[]\n",
    "    for item in ar:\n",
    "        for i in item:\n",
    "            if not i in res:\n",
    "                res.append(i)\n",
    "    return res\n",
    "union2(\"HAM\",\"RAM\",\"KIM\")"
   ]
  },
  {
   "cell_type": "code",
   "execution_count": null,
   "metadata": {},
   "outputs": [],
   "source": [
    "def userURL(server, port, **user): # **ar : 갯수가 정해지지 않은 인수를 dictionary 형태로 전달 \n",
    "    str = \"http://\"+server+\":\"+port+\"/?\"\n",
    "    for key in user.keys():\n",
    "        str += key+\"=\"+user[key]+\"&\"\n",
    "    return str  \n",
    "userURL(\"test.com\", \"8080\", id=\"userid\", passwd=\"1234\")"
   ]
  },
  {
   "cell_type": "markdown",
   "metadata": {},
   "source": [
    "## Recursive Function"
   ]
  },
  {
   "cell_type": "code",
   "execution_count": null,
   "metadata": {},
   "outputs": [],
   "source": [
    "def factorial(x):\n",
    "    if x == 1 :\n",
    "        return 1\n",
    "    return x * factorial(x-1)\n",
    "factorial(10)"
   ]
  },
  {
   "cell_type": "code",
   "execution_count": null,
   "metadata": {},
   "outputs": [],
   "source": [
    "def hanoi(ndisks, start=1, end=3): \n",
    "    if  ndisks: \n",
    "        hanoi(ndisks-1, start, 6-start-end) \n",
    "        print (start, \"번 기둥의\", ndisks, \"번 원반을\", end, \"번 기둥에 옮겨라\")\n",
    "        hanoi(ndisks-1, 6-start-end, end)\n",
    "hanoi(ndisks=3) "
   ]
  },
  {
   "cell_type": "markdown",
   "metadata": {},
   "source": [
    "## pass : 아무것도 하지마라"
   ]
  },
  {
   "cell_type": "markdown",
   "metadata": {},
   "source": [
    "## lambda : 이름 없는 한 줄짜리 함수"
   ]
  },
  {
   "cell_type": "code",
   "execution_count": null,
   "metadata": {},
   "outputs": [],
   "source": [
    "g = lambda x,y : x*y\n",
    "g(2,3)"
   ]
  },
  {
   "cell_type": "markdown",
   "metadata": {},
   "source": [
    "## Generator : return 대신 yield 사용\n",
    "### 이터레이터 만드는 강력한 도구!! 함수가 끝나도 객체 사라지지 않고 메모리에 남아있음(이어서 반복 수행 가능)"
   ]
  },
  {
   "cell_type": "code",
   "execution_count": null,
   "metadata": {},
   "outputs": [],
   "source": [
    "def reverse(data):\n",
    "    for index in range(len(data)-1, -1, -1): # (len(data)-1 ~ 0까지 -1 간격으로)\n",
    "        yield data[index]\n",
    "for char in reverse(\"golf\"):\n",
    "    print(char)        "
   ]
  },
  {
   "cell_type": "code",
   "execution_count": null,
   "metadata": {},
   "outputs": [],
   "source": [
    "def Fibonacci():\n",
    "    a,b = 0,1\n",
    "    while 1:\n",
    "        yield a\n",
    "        a,b=b,a+b   \n",
    "for i, value in enumerate(Fibonacci()):\n",
    "    if i<2 :\n",
    "        print (i, value)\n",
    "    else : break           "
   ]
  },
  {
   "cell_type": "markdown",
   "metadata": {},
   "source": [
    "## Zip : tuple 로 묶어줌 (공통 갯수 기준)"
   ]
  },
  {
   "cell_type": "code",
   "execution_count": null,
   "metadata": {},
   "outputs": [],
   "source": [
    "s1= [\"a\",\"b\",\"c\"]\n",
    "s2= [\"d\",\"e\",\"f\"]\n",
    "s3= [\"g\",\"h\"]\n",
    "z = zip(s1,s2,s3)\n",
    "list(z)"
   ]
  },
  {
   "cell_type": "code",
   "execution_count": null,
   "metadata": {},
   "outputs": [],
   "source": []
  },
  {
   "cell_type": "markdown",
   "metadata": {},
   "source": [
    "# 12/13 (WED)"
   ]
  },
  {
   "cell_type": "markdown",
   "metadata": {},
   "source": [
    "## If 문"
   ]
  },
  {
   "cell_type": "code",
   "execution_count": null,
   "metadata": {},
   "outputs": [],
   "source": [
    "score = int(input(\"score : \")) # 사용자로부터 입력받아 int로 변환\n",
    "if 90 <= score <= 100:\n",
    "    print (\"score가 90보다 크거나 같습니다\")\n",
    "else :\n",
    "    print (\"score는 90보다 작습니다\")"
   ]
  },
  {
   "cell_type": "markdown",
   "metadata": {},
   "source": [
    "## 단축평가 : 조건식 전체 판단하지 않고, 자명한 경우 더 이상 수식 평가 안함 (and / or)"
   ]
  },
  {
   "cell_type": "code",
   "execution_count": null,
   "metadata": {},
   "outputs": [],
   "source": [
    "a = 0 # 0은 False\n",
    "if a & 10/a : print (\"a=0\") # & 는 앞, 뒤 모두 체크\n",
    "else : print (\"에러없이 통과\")    "
   ]
  },
  {
   "cell_type": "code",
   "execution_count": null,
   "metadata": {},
   "outputs": [],
   "source": [
    "a = 0\n",
    "if a and 10/a : print (\"a=0\") # and 는 앞이 False이면 뒤 실행 안함\n",
    "else : print (\"에러없이 통과\")    "
   ]
  },
  {
   "cell_type": "code",
   "execution_count": null,
   "metadata": {},
   "outputs": [],
   "source": [
    "a = 0\n",
    "b = 1\n",
    "if b | 10/a : print (\"a=0\") # | 는 앞, 뒤 모두 체크\n",
    "else : print (\"에러없이 통과\")    "
   ]
  },
  {
   "cell_type": "code",
   "execution_count": null,
   "metadata": {},
   "outputs": [],
   "source": [
    "a = 0\n",
    "b = 1\n",
    "if b or 10/a : print (\"a=0\") # or 는 앞이 True면 뒤 실행 안함\n",
    "else : print (\"에러없이 통과\")    "
   ]
  },
  {
   "cell_type": "markdown",
   "metadata": {},
   "source": [
    "## while 문 : 조건식 평가 - 구문수행 - 조건식 재평가"
   ]
  },
  {
   "cell_type": "code",
   "execution_count": null,
   "metadata": {},
   "outputs": [],
   "source": [
    "value = 5\n",
    "while value > 0 :\n",
    "    print (value)\n",
    "    value -= 1"
   ]
  },
  {
   "cell_type": "markdown",
   "metadata": {},
   "source": [
    "## for 문 - 구구단"
   ]
  },
  {
   "cell_type": "code",
   "execution_count": null,
   "metadata": {},
   "outputs": [],
   "source": [
    "for n in range(1,10):\n",
    "    print(\"-- {0} 단 --\".format(n))\n",
    "    for i in range(1,10):\n",
    "        print (\"{0}*{1}={2}\".format(n, i, n*i))  # {arg1}{arg2}.format(arg1값, arg2값)"
   ]
  },
  {
   "cell_type": "markdown",
   "metadata": {},
   "source": [
    "## Continue 와 Break 로 반복문 제어"
   ]
  },
  {
   "cell_type": "code",
   "execution_count": null,
   "metadata": {},
   "outputs": [],
   "source": [
    "for i in range(1,11):\n",
    "    if i > 5 :\n",
    "        break # break : 반복문 종료 (else문 실행 안됨)\n",
    "    print (\"item:{0}\".format(i))\n",
    "else : \n",
    "    print (\"Exit without break\")\n",
    "print (\"Always this is printed\")    "
   ]
  },
  {
   "cell_type": "code",
   "execution_count": null,
   "metadata": {},
   "outputs": [],
   "source": [
    "for i in range(1,11):\n",
    "    if i % 2 == 0 :\n",
    "        continue # continue : 반복문으로 돌아가 다시 실행하라\n",
    "    print (\"item:{0}\".format(i))\n",
    "else : # else 문 : Break로 반복문이 중간 종료되지 않고 끝까지 수행된 후 실행\n",
    "    print (\"Exit without break\")\n",
    "print (\"Always this is printed\")  "
   ]
  },
  {
   "cell_type": "markdown",
   "metadata": {},
   "source": [
    "## List comprehension"
   ]
  },
  {
   "cell_type": "code",
   "execution_count": null,
   "metadata": {},
   "outputs": [],
   "source": [
    "L = [10,20,30,40]\n",
    "list(filter(lambda x: x>20 ,L)) # filter(function, 시퀀스 객체)"
   ]
  },
  {
   "cell_type": "code",
   "execution_count": null,
   "metadata": {},
   "outputs": [],
   "source": [
    "some_tuples = [(1,2,3),(4,5,6),(7,8,9)] # 중첩된 리스트\n",
    "flattened = [x for tup in some_tuples for x in tup]"
   ]
  },
  {
   "cell_type": "markdown",
   "metadata": {},
   "source": [
    "## Map : map(function, 시퀀스 객체) : 시퀀스 객체 순회하며 function 수행 후 객체를 반환"
   ]
  },
  {
   "cell_type": "code",
   "execution_count": null,
   "metadata": {},
   "outputs": [],
   "source": [
    "L = [1,2,3]\n",
    "def Add10(x):\n",
    "    return x+10\n",
    "for i in map(Add10, L):\n",
    "    print (\"item:{0}\".format(i))\n",
    "\n",
    "x = [1,2,3]\n",
    "y = [2,3,4]\n",
    "list(map(pow, x, y))"
   ]
  },
  {
   "cell_type": "markdown",
   "metadata": {},
   "source": [
    "## Class"
   ]
  },
  {
   "cell_type": "code",
   "execution_count": null,
   "metadata": {},
   "outputs": [],
   "source": [
    "class person: # 클래스 정의\n",
    "    Name = \"Default Name\" # 멤버 변수\n",
    "    def Print(self): # 멤버 메소드\n",
    "        print(\"My Name is {0}\".format(self.Name))\n",
    "p1 = person() # 인스턴스 객체 생성\n",
    "p1.Print() # 멤버 변수값 출력    ==  person.Print(p1) 과 동일 "
   ]
  },
  {
   "cell_type": "code",
   "execution_count": null,
   "metadata": {},
   "outputs": [],
   "source": [
    "class Person:\n",
    "    pass\n",
    "class Bird:\n",
    "    pass\n",
    "class Student(Person): # Student 가 Person 상속 \n",
    "    pass\n",
    "p, s = Person(), Student()\n",
    "\n",
    "print (isinstance(p, Person)) # p is instance of Person\n",
    "print (isinstance(s, Person)) # s is instance of Person\n",
    "print (isinstance(p, object)) # p is instance of object\n",
    "print (isinstance(p, Bird)) # p is not instance of Bird"
   ]
  },
  {
   "cell_type": "markdown",
   "metadata": {},
   "source": [
    "### 생성자 : 인스턴스 객체가 생성될 때 자동으로 호출 __init__()\n",
    "### 소멸자 : 인스턴스 객체의 참조 카운터가 '0'이 될때 호출 __del__()"
   ]
  },
  {
   "cell_type": "code",
   "execution_count": null,
   "metadata": {},
   "outputs": [],
   "source": [
    "class Myclass:\n",
    "    def __init__(self, value): # 생성자 메소드\n",
    "        self.Value = value\n",
    "        print (\"Class is created! Value = \", value)\n",
    "    \n",
    "    def __del__(self): # 소멸자 메소드\n",
    "        print (\"Class is deleted!\")\n",
    "        \n",
    "        \n",
    "def foo():\n",
    "    d = Myclass(10) # 함수 foo 블록안에서만 인스턴스 객체 d가 존재  \n",
    "                    #local variable 로써 scope 벗어나는 순간 참조 카운터가 0이 되어사라짐!!!\n",
    "    print (\"destructor has not called yet\")\n",
    "     \n",
    "foo()    "
   ]
  },
  {
   "cell_type": "markdown",
   "metadata": {},
   "source": [
    "### static method : 인스턴스 객체를 통하지 않고, 클래스를 통해 직접 호출할 수 있는 메소드\n",
    "### class method : 클래스 영역의 데이터에 직접 접근할 수 있는 메소드(암시적으로 첫 인자로 클래스 객체가 전달)  - 객체로 접근 "
   ]
  },
  {
   "cell_type": "code",
   "execution_count": null,
   "metadata": {},
   "outputs": [],
   "source": [
    "class CounterManager:\n",
    "    insCount = 0\n",
    "    def __init__(self):\n",
    "        CounterManager.insCount += 1\n",
    "    def staticPrintCount():\n",
    "        print (\"InstanceCount:\",CounterManager.insCount)\n",
    "    SPrintCount = staticmethod(staticPrintCount)\n",
    "    def classPrintCount(self):\n",
    "        print (\"InstanceCount:\",self.insCount)\n",
    "    CPrintCount = classmethod(classPrintCount)"
   ]
  },
  {
   "cell_type": "code",
   "execution_count": null,
   "metadata": {},
   "outputs": [],
   "source": [
    "a, b, c = CounterManager(), CounterManager(), CounterManager()"
   ]
  },
  {
   "cell_type": "code",
   "execution_count": null,
   "metadata": {},
   "outputs": [],
   "source": [
    "CounterManager.SPrintCount()\n",
    "b.SPrintCount()"
   ]
  },
  {
   "cell_type": "code",
   "execution_count": null,
   "metadata": {},
   "outputs": [],
   "source": [
    "CounterManager.CPrintCount()\n",
    "b.CPrintCount()"
   ]
  },
  {
   "cell_type": "code",
   "execution_count": null,
   "metadata": {},
   "outputs": [],
   "source": []
  },
  {
   "cell_type": "markdown",
   "metadata": {},
   "source": [
    "# 12/14 (THU)"
   ]
  },
  {
   "cell_type": "markdown",
   "metadata": {},
   "source": [
    "## 연산자 중복(Overloading) - same Only name / different arg"
   ]
  },
  {
   "cell_type": "markdown",
   "metadata": {},
   "source": [
    "## 상속"
   ]
  },
  {
   "cell_type": "code",
   "execution_count": null,
   "metadata": {},
   "outputs": [],
   "source": [
    "class Person:\n",
    "    def __init__(self, name, phoneNumber):\n",
    "        self.Name = name\n",
    "        self.PhoneNumber = phoneNumber\n",
    "class Student(Person):\n",
    "    def __init__(self, name, phoneNumber, subject, studentID):\n",
    "        self.Name = name\n",
    "        self.PhoneNumber = phoneNumber\n",
    "        self.Subject = subject\n",
    "        self.StudentID = studentID"
   ]
  },
  {
   "cell_type": "code",
   "execution_count": null,
   "metadata": {},
   "outputs": [],
   "source": [
    "issubclass(Student, Person) # 상속관계 확인 (자식, 부모)"
   ]
  },
  {
   "cell_type": "markdown",
   "metadata": {},
   "source": [
    "## 다중상속 - 두 개 이상의 클래스로부터 상속받음 (Impossible in Java)"
   ]
  },
  {
   "cell_type": "code",
   "execution_count": null,
   "metadata": {},
   "outputs": [],
   "source": [
    "class Tiger:\n",
    "    def Jump(self):\n",
    "        print (\"Tiger Jump\")\n",
    "    def Bite(self):\n",
    "        print (\"Tiger Bite\")\n",
    "class Lion:\n",
    "    def Jump(self):\n",
    "        print (\"Lion Jump\")\n",
    "    def Bite(self):\n",
    "        print (\"Lion Bite\")\n",
    "class Liger(Tiger, Lion): # 같은 메소드나 변수가 있을 시 Tiger 우선순위!\n",
    "    def Play(self):\n",
    "        print (\"Liger Play\")"
   ]
  },
  {
   "cell_type": "markdown",
   "metadata": {},
   "source": [
    "## Overriding(재정의)"
   ]
  },
  {
   "cell_type": "code",
   "execution_count": null,
   "metadata": {},
   "outputs": [],
   "source": [
    "class SuperClass:\n",
    "    x = 10\n",
    "    def printX(self):\n",
    "        print(self.x)\n",
    "class SubClass(SuperClass):\n",
    "    y = 20\n",
    "    def printY(self):\n",
    "        print(self.y)\n",
    "    def printX(self):\n",
    "        print(\"sub:\",self.x)\n",
    "s = SubClass()\n",
    "s.printX()"
   ]
  },
  {
   "cell_type": "markdown",
   "metadata": {},
   "source": [
    "### static : class 내에서 유일! 공유한다. 객체를 참조할 필요없다."
   ]
  },
  {
   "cell_type": "markdown",
   "metadata": {},
   "source": [
    "## 다형성 : 상위자료형을 부름으로써 하위자료형 실행"
   ]
  },
  {
   "cell_type": "markdown",
   "metadata": {},
   "source": [
    "### 상속을 받았을 때 일반적으로는 bottom-up 으로 실행 but 부모 클래스에 있는 메소드를 먼저 실행하고 싶을때 super() 사용"
   ]
  },
  {
   "cell_type": "code",
   "execution_count": null,
   "metadata": {},
   "outputs": [],
   "source": [
    "class Animal:\n",
    "    def __init__(self):\n",
    "        print (\"Animal __init()__\")\n",
    "        \n",
    "class Tiger(Animal):\n",
    "    def __init__(self):\n",
    "        super().__init__()\n",
    "        print (\"Tiger __init()__\")\n",
    "       \n",
    "class Lion(Animal):\n",
    "    def __init__(self):\n",
    "        super().__init__() # Tiger - Liger 순서를 깨지 않기 위해 Lion이 먼저 실행\n",
    "        print (\"Lion __init()__\")\n",
    "        \n",
    "class Liger(Tiger, Lion):\n",
    "    def __init__(self):\n",
    "        super().__init__() # Tiger 가 우선순위이므로 Tiger만 뒤짐\n",
    "        print (\"Liger __init()__\")          "
   ]
  },
  {
   "cell_type": "code",
   "execution_count": null,
   "metadata": {},
   "outputs": [],
   "source": [
    "l = Liger()"
   ]
  },
  {
   "cell_type": "markdown",
   "metadata": {},
   "source": [
    "## Module - sys.path 안에 있어야 됨 \n",
    "### (추가시 sys.path.append(\"path\") - 일시적) / module - file(*.py)"
   ]
  },
  {
   "cell_type": "markdown",
   "metadata": {},
   "source": [
    "## dir(모듈) : 모듈 안에 있는 함수, 데이터 조회"
   ]
  },
  {
   "cell_type": "code",
   "execution_count": null,
   "metadata": {},
   "outputs": [],
   "source": []
  },
  {
   "cell_type": "markdown",
   "metadata": {},
   "source": [
    "# 12/15 (FRI)"
   ]
  },
  {
   "cell_type": "markdown",
   "metadata": {},
   "source": [
    "## 한 번 메모리에 로딩된 모듈(import module)은 파이썬 인터프리터 끝나기 전에는 변경 안됨"
   ]
  },
  {
   "cell_type": "markdown",
   "metadata": {},
   "source": [
    "### 모듈 직접 실행 시(python module_name.py) : __name__ = __main__\n",
    "### 모듈 import 실행 시(import module_name ) : __name__ = module_name"
   ]
  },
  {
   "cell_type": "markdown",
   "metadata": {},
   "source": [
    "## 패키지 : 모듈의 모음"
   ]
  },
  {
   "cell_type": "markdown",
   "metadata": {},
   "source": [
    "## 예외 처리\n",
    "### try : 예외 발생 가능성 문장\n",
    "### except : 예외 종류 (상속계층 아래부터 : specific to general)\n",
    "### else : 예외 발생 안할 시 실행\n",
    "### finally : 무조건 실행"
   ]
  },
  {
   "cell_type": "code",
   "execution_count": null,
   "metadata": {},
   "outputs": [],
   "source": [
    "class NegativeDivisionError(Exception): # 최상위 Error class 상속\n",
    "    def __init__(self, value):\n",
    "        self.value = value\n",
    "        \n",
    "def PositiveDivide(a, b):\n",
    "    if(b<0):\n",
    "        raise NegativeDivisionError(b) # 예외를 던져서 내가 예외를 발생시킨다.\n",
    "    return a/b"
   ]
  },
  {
   "cell_type": "code",
   "execution_count": null,
   "metadata": {},
   "outputs": [],
   "source": [
    "try:\n",
    "    ret = PositiveDivide(10, \"s\")\n",
    "    print('10/3={0}'.format(ret))\n",
    "except NegativeDivisionError as e:\n",
    "    print(\"Error - Second argument of PositiveDivide is \", e.value)\n",
    "except ZeroDivisionError as e:\n",
    "    print(\"Error - \", e.args[0])\n",
    "except:\n",
    "    print(\"Unexpected Exception!\")"
   ]
  },
  {
   "cell_type": "markdown",
   "metadata": {},
   "source": [
    "## 입출력"
   ]
  },
  {
   "cell_type": "code",
   "execution_count": null,
   "metadata": {},
   "outputs": [],
   "source": [
    "for x in range(1,6):\n",
    "    print (x,\"*\",x,\"=\",str(x*x).rjust(3)) # str.rjust(N) (N크기로 오른쪽 정렬)"
   ]
  },
  {
   "cell_type": "code",
   "execution_count": null,
   "metadata": {},
   "outputs": [],
   "source": [
    "for x in range(1,6):\n",
    "    print (x,\"*\",x,\"=\",str(x*x).zfill(3)) # str.zfill(N) (N크기로 만드는데 0으로 채워라)"
   ]
  },
  {
   "cell_type": "markdown",
   "metadata": {},
   "source": [
    "## format : {} {} .format(value)"
   ]
  },
  {
   "cell_type": "code",
   "execution_count": null,
   "metadata": {
    "scrolled": true
   },
   "outputs": [],
   "source": [
    "print (\"{0} is {1}\".format(\"apple\",\"red\")) # argument 이용\n",
    "print (\"{item} is {color}\".format(item=\"apple\",color=\"red\")) # key&value 이용\n",
    "dic = {\"k\":\"apple\", \"v\":\"red\"}\n",
    "print (\"{0[k]} is {0[v]}\".format(dic)) # dictionary 불러옴\n",
    "print (\"{k} is {v}\".format(**dic)) ## 가변 인수"
   ]
  },
  {
   "cell_type": "markdown",
   "metadata": {},
   "source": [
    "### repr() : 객체를 문자열로 리턴(객체 그대로!!) -----> eval( return 값 ) : 문자열을 다시 객체 생성\n",
    "### str() : 객체를 문자열로 리턴"
   ]
  },
  {
   "cell_type": "code",
   "execution_count": null,
   "metadata": {
    "scrolled": true
   },
   "outputs": [],
   "source": [
    "print (\"{0:$>5}\".format(10)) # $:공백을 $로 채움, >:오른쪽 정렬, 5:5자리 수\n",
    "print (\"{0:$<5}\".format(10)) # >:왼쪽 기준\n",
    "print (\"{0:$^5}\".format(10)) # ^:가운데 기준\n",
    "print (\"{0:$=5}\".format(10)) # =:공백문자에 부호사용\n",
    "print (\"{0:+=5}\".format(-10)) # +:플러스 나타내라\n",
    "print (\"{0:-=5}\".format(-10)) # -:마이너스 나타내라\n",
    "print (\"{0:\"\"=5}\".format(-10)) # \" \": 마이너스는 나타내고 플러스는 공백처리 "
   ]
  },
  {
   "cell_type": "code",
   "execution_count": null,
   "metadata": {},
   "outputs": [],
   "source": [
    "print (\"{0:b}\".format(10)) # 10을 2진수로\n",
    "print (\"{0:o}\".format(10)) # 10을 8진수로\n",
    "print (\"{0:c}\".format(65)) # 65를 문자로(Ascii)\n",
    "print (\"{0:#x}, {0:#o}, {0:#b}\".format(10)) # 진수변환\n",
    "print (\"{0:e}\".format(4/3)) # 지수표현\n",
    "print (\"{0:.3f}\".format(4/3)) # 실수표현(자릿수)\n",
    "print (\"{0:%}\".format(4/3)) # 백분율표현"
   ]
  },
  {
   "cell_type": "markdown",
   "metadata": {},
   "source": [
    "## 파일 입출력 - TEXT FILE\n",
    "### r: 읽기모드(default), w:쓰기모드, a:이어쓰기모드, +:읽기쓰기모드, b:바이너리모드, f:텍스트모드(default)\n",
    "### open() --> write() --> close()\n",
    "### readline():함수 호출할 때마다 한 줄씩, readlines():줄 단위로 잘라서 리스트로 반환\n",
    "### tell():어디까지 읽고 썼는지 위치 반환, seek():원하는 위치로 포인터 이동\n",
    "\n",
    "### With ~ as 구문 - with open(  ) as f: indentation 안에서 사용"
   ]
  },
  {
   "cell_type": "markdown",
   "metadata": {},
   "source": [
    "## Pickle - TEXT FILE 이외의 자료형을 변경 없이 저장 및 로드"
   ]
  },
  {
   "cell_type": "code",
   "execution_count": null,
   "metadata": {},
   "outputs": [],
   "source": [
    "import pickle # 모듈\n",
    "color = ['red','blue','orange']\n",
    "f = open(\"/home/dongsu/colors\",\"wb\") # pickle로 파일을 쓸 때는 반드시 바이너리 모드!\n",
    "pickle.dump(color, f) # dump를 이용하여 f에 color를 저장\n",
    "f.close()"
   ]
  },
  {
   "cell_type": "code",
   "execution_count": null,
   "metadata": {},
   "outputs": [],
   "source": [
    "del color\n",
    "f = open(\"/home/dongsu/colors\",\"rb\") # pickle로 파일을 읽을 때는 반드시 바이너리 모드!\n",
    "color = pickle.load(f) # load를 이용하여 f를 불러서 color로 저장\n",
    "f.close()\n",
    "color"
   ]
  },
  {
   "cell_type": "markdown",
   "metadata": {},
   "source": [
    "## 문자열 처리"
   ]
  },
  {
   "cell_type": "code",
   "execution_count": null,
   "metadata": {},
   "outputs": [],
   "source": [
    "print (\"python is powerful\".capitalize()) # 첫글자 대문자\n",
    "print (\"python is powerful\".count('p')) # 글자수 카운트\n",
    "print (\"가\".encode('utf-8')) # 인코딩\n",
    "print (\"python\\tis\\tpowerful\".expandtabs()) # 탭을 공백으로\n",
    "print (\"python is powerful\".endswith('ful')) # 끝나는 글자확인 (T or F)\n",
    "print (\"python is powerful\".find('p', 5, -1)) # start ~ finish 사이에서 인덱스 반환(복수이면 앞에 것), 없으면 -1 "
   ]
  },
  {
   "cell_type": "code",
   "execution_count": null,
   "metadata": {},
   "outputs": [],
   "source": [
    "print (\"python is powerful\".index('i')) # 없으면 value error \n",
    "print (\"python3000\".isalnum()) # 알파벳과 숫자로만 이루어져 있는가(공백도 안됨)\n",
    "print (\"python is powerful\".split()) # 기준에 따라 나누고 리스트로 반환 (default : 공백)\n",
    "print (\">>> python is powerful <<<\".strip(\"<>\")) # \" \"를 기준으로 문자열의 양쪽 끝만 잘라냄"
   ]
  },
  {
   "cell_type": "markdown",
   "metadata": {},
   "source": [
    "## 정규식 - Regular Expression"
   ]
  },
  {
   "cell_type": "markdown",
   "metadata": {},
   "source": [
    "#### ^ 문자열 시작\n",
    "#### $ 문자열 종료\n",
    "#### | OR 연산\n",
    "#### * 문자가 0회 이상 반복"
   ]
  },
  {
   "cell_type": "code",
   "execution_count": null,
   "metadata": {},
   "outputs": [],
   "source": [
    "import re\n",
    "bool(re.search('ap','This is an apple')) # 문자열 전체에서 해당 문자열이 있는가(해당 패턴)\n",
    "bool(re.match('ap','This is an apple')) # 해당 문자열로 문자열이 시작하는가(정확)\n",
    "re.split('[:. ]+',\"apple Orange:banana tomato\") # (: 또는 공백)으로 모두 분리해서 리스트로 반환\n",
    "re.split('[:. ]+',\"apple Orange:banana tomato\",maxsplit=1) # (: 또는 공백)으로 분리하되 maxsplit 갯수 만큼 자르고 나머지 통으로"
   ]
  },
  {
   "cell_type": "code",
   "execution_count": null,
   "metadata": {},
   "outputs": [],
   "source": [
    "c = re.compile(r\"app\\w*\") # \\w:모든 알파벳과 숫자허용, *:갯수무관하게 존재하면 됨 ------ app~ 찾아라\n",
    "c.findall(\"application orange apple banana\") # findall() : 정규식 부합하는 모든 문자열 리스트로 반환\n",
    "c.findall(\"There are so many apples in the basket\")"
   ]
  },
  {
   "cell_type": "code",
   "execution_count": null,
   "metadata": {},
   "outputs": [],
   "source": []
  },
  {
   "cell_type": "markdown",
   "metadata": {},
   "source": [
    "# 12/18 (MON)"
   ]
  },
  {
   "cell_type": "markdown",
   "metadata": {},
   "source": [
    "## Time / Datetime 모듈"
   ]
  },
  {
   "cell_type": "code",
   "execution_count": null,
   "metadata": {},
   "outputs": [],
   "source": [
    "import time\n",
    "t = time.localtime() ## t.attribute 로 원하는 값만 출력"
   ]
  },
  {
   "cell_type": "code",
   "execution_count": null,
   "metadata": {},
   "outputs": [],
   "source": [
    "import datetime\n",
    "d = datetime.datetime.now() # datetime 패키지 안의 datetime 클래스 안의 now() 메소드\n",
    "datetime.timedelta() # 날짜 사이의 기간"
   ]
  },
  {
   "cell_type": "markdown",
   "metadata": {},
   "source": [
    "## Math / Fraction / Decimal 모듈"
   ]
  },
  {
   "cell_type": "code",
   "execution_count": null,
   "metadata": {},
   "outputs": [],
   "source": [
    "import math\n",
    "import fractions\n",
    "import decimal # decimal 모듈은 실수를 정확하게 표현할 수 있으며, 정밀도 연산에서 유용하게 사용됨!"
   ]
  },
  {
   "cell_type": "markdown",
   "metadata": {},
   "source": [
    "## random 모듈"
   ]
  },
  {
   "cell_type": "code",
   "execution_count": null,
   "metadata": {},
   "outputs": [],
   "source": [
    "import random\n",
    "print(random.random()) # 0과 1사이 숫자 하나\n",
    "print(random.randrange(10)) # randrange(10) : 0과 9사이의 숫자 하나 랜덤하게 추출(복원추출)\n",
    "print([random.randrange(10) for i in range(10)]) # 0과 9사이의 숫자중 10개 추출(복원)\n",
    "print(random.sample(range(20), 10)) # 0과 19사이의 숫자중 10개 추출(비복원)"
   ]
  },
  {
   "cell_type": "markdown",
   "metadata": {},
   "source": [
    "### xrange() : range()와 쓰임 동일하나, 메모리 사용이 효율적이다! (접근시에만 메모리에 값을 로드)"
   ]
  },
  {
   "cell_type": "markdown",
   "metadata": {},
   "source": [
    "## os.path와 glob를 이용해서 tree 만들기"
   ]
  },
  {
   "cell_type": "code",
   "execution_count": null,
   "metadata": {},
   "outputs": [],
   "source": [
    "import glob, os.path\n",
    "ndir = nfile = 0\n",
    "\n",
    "def traverse(dir, depth):\n",
    "    global ndir, nfile\n",
    "    for obj in glob.glob(dir+\"/*\"): # dir 아래의 모든 디렉토리에 대해 / glob() == ls\n",
    "        if depth == 0:\n",
    "            prefix = \"|--\"\n",
    "        else:\n",
    "            prefix = \"|\" + \"  \" * depth + \"|--\" # depth 만큼의 공백으로 들여쓰기\n",
    "        if os.path.isdir(obj): # 경로가 디렉토리인지 검사\n",
    "            ndir += 1\n",
    "            print(prefix + os.path.basename(obj)) # 입력받은 경로의 기본이름을 반환\n",
    "            traverse(obj, depth +1) # 디렉토리이므로 하위에 대한 traverse 실시\n",
    "        elif os.path.isfile(obj): # 경로가 파일인지 검사\n",
    "            nfile += 1\n",
    "            print (prefix + os.path.basename(obj)) \n",
    "        else:\n",
    "            print(prefix + \"unknown object :\", obj)\n",
    "\n",
    "if __name__ == \"__main__\":\n",
    "    traverse('.',0) # 시작할 path 지정 (. : 현재 directory, depth는 0부터 시작)\n",
    "    print (\"\\n\", ndir, \"directories,\", nfile, \"files\")"
   ]
  },
  {
   "cell_type": "markdown",
   "metadata": {},
   "source": [
    "## SQLite3 : 디스크 기반의 가벼운 데이터베이스 라이브러리\n",
    "### Connect 객체를 이용하여 DB 접근하여 DB를 동작시키고,  cursor() - sql문 실행, rollback(), commit() - Transaction \n",
    "### Transaction Characteristic 4\n",
    "#### 1. Atomic : 원자성(쪼갤 수 없다). 하나라도 실패하면 rollback, all or nothing\n",
    "#### 2. Consistency : Transaction 전후 상태 일관성 유지\n",
    "#### 3. Isolation : Transaction 끼리 간섭하면 안됨\n",
    "#### 4. Durability : DB에 기록하면 유지됨"
   ]
  },
  {
   "cell_type": "code",
   "execution_count": 2,
   "metadata": {},
   "outputs": [],
   "source": [
    "import sqlite3"
   ]
  },
  {
   "cell_type": "code",
   "execution_count": 3,
   "metadata": {},
   "outputs": [],
   "source": [
    "con = sqlite3.connect(\"/home/dongsu/study_note/note_taking/test.db\") # DB 접근 (없으면 생성)"
   ]
  },
  {
   "cell_type": "code",
   "execution_count": 21,
   "metadata": {},
   "outputs": [],
   "source": [
    "cur = con.cursor() # 커서 객체 생성"
   ]
  },
  {
   "cell_type": "code",
   "execution_count": 4,
   "metadata": {},
   "outputs": [
    {
     "data": {
      "text/plain": [
       "<sqlite3.Cursor at 0x7f08686de420>"
      ]
     },
     "execution_count": 4,
     "metadata": {},
     "output_type": "execute_result"
    }
   ],
   "source": [
    "cur.execute(\"CREATE TABLE PhoneBook(Name text, PhoneNum text);\") # 하나의 쿼리문 실행"
   ]
  },
  {
   "cell_type": "code",
   "execution_count": 12,
   "metadata": {},
   "outputs": [
    {
     "data": {
      "text/plain": [
       "<sqlite3.Cursor at 0x7f61f8571c70>"
      ]
     },
     "execution_count": 12,
     "metadata": {},
     "output_type": "execute_result"
    }
   ],
   "source": [
    "cur.execute(\"INSERT INTO PhoneBook VALUES(?,?);\",(\"SDS\",\"010-1111-1111\")) # ? 를 사용해 보안을 강화"
   ]
  },
  {
   "cell_type": "code",
   "execution_count": 13,
   "metadata": {},
   "outputs": [
    {
     "data": {
      "text/plain": [
       "<sqlite3.Cursor at 0x7f61f8571c70>"
      ]
     },
     "execution_count": 13,
     "metadata": {},
     "output_type": "execute_result"
    }
   ],
   "source": [
    "datalist = ((\"JMJ\",\"010-2222-2222\"),(\"LSE\",\"010-3333-3333\"))\n",
    "cur.executemany(\"INSERT INTO PhoneBook VALUES(?,?);\",datalist) # 여러개의 커리문 실행"
   ]
  },
  {
   "cell_type": "code",
   "execution_count": 14,
   "metadata": {},
   "outputs": [
    {
     "data": {
      "text/plain": [
       "<sqlite3.Cursor at 0x7f61f8571c70>"
      ]
     },
     "execution_count": 14,
     "metadata": {},
     "output_type": "execute_result"
    }
   ],
   "source": [
    "cur.execute(\"SELECT * FROM PhoneBook;\")"
   ]
  },
  {
   "cell_type": "code",
   "execution_count": 22,
   "metadata": {},
   "outputs": [
    {
     "data": {
      "text/plain": [
       "[]"
      ]
     },
     "execution_count": 22,
     "metadata": {},
     "output_type": "execute_result"
    }
   ],
   "source": [
    "cur.fetchall() # fetch : DB로 부터 객체(Row) 가져옴 / fetchone(), fetchmany(3)"
   ]
  },
  {
   "cell_type": "code",
   "execution_count": null,
   "metadata": {},
   "outputs": [],
   "source": [
    "con.commit() # commit!! 으로 DML 저장 "
   ]
  },
  {
   "cell_type": "code",
   "execution_count": 26,
   "metadata": {},
   "outputs": [],
   "source": [
    "with open(\"/home/dongsu/study_note/note_taking/dump.sql\",\"w\") as f: # DB file ------> SQL file\n",
    "    for l in con.iterdump(): # connection.iterdump() : DB의 현재상태를 SQL문으로 추출\n",
    "        f.write(\"{0}\\n\".format(l)) "
   ]
  },
  {
   "cell_type": "code",
   "execution_count": null,
   "metadata": {},
   "outputs": [],
   "source": []
  },
  {
   "cell_type": "markdown",
   "metadata": {},
   "source": [
    "# 12/19 (TUE)"
   ]
  },
  {
   "cell_type": "markdown",
   "metadata": {},
   "source": [
    "## OS / SYS 모듈 - 많은 정보와 기능을 제공"
   ]
  },
  {
   "cell_type": "code",
   "execution_count": 1,
   "metadata": {},
   "outputs": [],
   "source": [
    "import os\n",
    "import sys"
   ]
  },
  {
   "cell_type": "markdown",
   "metadata": {},
   "source": [
    "Multi-threading : 하나의 프로세스(순차적실행) 공유하고 스레드(동시실행) 여러개로 나누어 각각 처리 - 작업 분할\n",
    "                  동시실행(여러작업) -- 실제로는 아주 짧은 주기로 순차적 실행!\n",
    "\n",
    " \n",
    "Multi-processing : 여러개 CPU가 여러개의 프로세스 동시실행\n",
    "\n",
    "\n",
    "lock(동기화 객체)를 통해 하나의 자원에 대한 여러 스레드의 동시실행을 제어(=race condition) - 스레드 간에 프로세스 공간 메모리 공유"
   ]
  },
  {
   "cell_type": "markdown",
   "metadata": {},
   "source": [
    "HTML : 요소(태그) 정해져 있다 - 정의된대로 사용 - 표현 목적\n",
    "XML : 확장가능 - 사용자 태그 사용 가능 - 교환 목적 - 기계&사람 둘다 이해"
   ]
  },
  {
   "cell_type": "markdown",
   "metadata": {},
   "source": [
    "## DOM(Document Object Model)\n",
    "### DOM : Python 에서 XML 처리하기 위한 패키지 ( 파싱을 통해 DOM TREE 구성)\n",
    "### Document >  Node > Element"
   ]
  },
  {
   "cell_type": "code",
   "execution_count": 19,
   "metadata": {},
   "outputs": [
    {
     "name": "stdout",
     "output_type": "stream",
     "text": [
      "Start element: book {'ISBN': '1111'}\n",
      "Character data: '\\n'\n",
      "Character data: '    '\n",
      "Start element: title {}\n",
      "Character data: 'Loving Python'\n",
      "Character data: '    '\n"
     ]
    },
    {
     "data": {
      "text/plain": [
       "1"
      ]
     },
     "execution_count": 19,
     "metadata": {},
     "output_type": "execute_result"
    }
   ],
   "source": [
    "import xml.parsers.expat # XML 문서 파싱을 위해\n",
    "\n",
    "def start_element(name, attrs):\n",
    "    print('Start element:', name, attrs)\n",
    "\n",
    "def char_data(data):\n",
    "    print('Character data:', repr(data))\n",
    "\n",
    "pa = xml.parsers.expat.ParserCreate() # xmlpaser 객체 생성!!!!\n",
    "\n",
    "# 핸들러에 함수 등록하여 이벤트 발생시 함수 호출\n",
    "pa.StartElementHandler = start_element # element 시작 부분에서 호출 (element 이름, 속성값이 사전형식으로 전달)\n",
    "pa.CharacterDataHandler = char_data # 문자데이터를 발견하면 호출 (줄바꿈, 공백도 문자로 인식)\n",
    "pa.Parse('''<?xml version=\"1.0\"?>\n",
    "<book ISBN=\"1111\">\n",
    "    <title>Loving Python</title>    </book>''')"
   ]
  },
  {
   "cell_type": "code",
   "execution_count": 23,
   "metadata": {},
   "outputs": [
    {
     "data": {
      "text/plain": [
       "'<?xml version=\"1.0\" ?><item>\\n <name>test</name>\\n </item>'"
      ]
     },
     "execution_count": 23,
     "metadata": {},
     "output_type": "execute_result"
    }
   ],
   "source": [
    "from xml.dom.minidom import * # Minidom : DOM 인터페이스 가볍게 구현해 놓은 것\n",
    "xmlsrc = ''' <item>\n",
    " <name>test</name>\n",
    " </item>\n",
    "'''\n",
    "doc = parseString(xmlsrc) # 문자열을 입력으로 받아 Document 객체 반환\n",
    "doc.toxml()\n",
    "\n",
    "bookxml = parse(\"/home/dongsu/study_note/note_taking/book.xml\") # file로부터 XML문서 읽어서 Document 객체로 반환\n",
    "bookxml.toxml() # Document 객체를 문자열로 출력"
   ]
  },
  {
   "cell_type": "code",
   "execution_count": 41,
   "metadata": {},
   "outputs": [
    {
     "data": {
      "text/plain": [
       "[<DOM Element: booklist at 0x7fe158174178>]"
      ]
     },
     "execution_count": 41,
     "metadata": {},
     "output_type": "execute_result"
    }
   ],
   "source": [
    "bookxml.childNodes # document 아래의 하위노드 살펴보기 --> booklist\n",
    "bookxml.childNodes[0].childNodes # booklist 하위노드 살펴보기 --> 3개의 book elements & text nodes"
   ]
  },
  {
   "cell_type": "code",
   "execution_count": null,
   "metadata": {},
   "outputs": [],
   "source": []
  },
  {
   "cell_type": "markdown",
   "metadata": {},
   "source": [
    "# 12/20 (WED)"
   ]
  },
  {
   "cell_type": "markdown",
   "metadata": {},
   "source": [
    "## NAVER OPENAPI SEARCH_BOOK WITH URLLIBRARY "
   ]
  },
  {
   "cell_type": "code",
   "execution_count": null,
   "metadata": {},
   "outputs": [],
   "source": [
    "import os\n",
    "import sys\n",
    "import urllib.request\n",
    "from xml.dom.minidom import parseString\n",
    "\n",
    "client_id = \"gXbe606rgofEGUymSqwc\"\n",
    "client_secret = \"KTBr5jE9Fl\"\n",
    "encText = urllib.parse.quote(\"love\")\n",
    "url = \"https://openapi.naver.com/v1/search/book.xml?query=\"+encText\n",
    "url += \"&display=10&start=1\"\n",
    "resp = None\n",
    "\n",
    "req = urllib.request.Request(url)\n",
    "req.add_header(\"X-Naver-Client-Id\", client_id)\n",
    "req.add_header(\"X-Naver-Client-Secret\", client_secret)\n",
    "try:\n",
    "    resp = urllib.request.urlopen(req)\n",
    "except urllib.error.URLError as e:\n",
    "    print (e.reason)\n",
    "    print (parseString(e.read().decode('utf-8')).toprettyxml())\n",
    "except urllib.error.HTTPError as e:\n",
    "    print (\"error code=\"+e.code)\n",
    "    print (parseString(e.read().decode('utf-8')).toprettyxml())\n",
    "else:\n",
    "    response_body = resp.read()\n",
    "    print (parseString(response_body.decode('utf-8')).toprettyxml())"
   ]
  },
  {
   "cell_type": "markdown",
   "metadata": {},
   "source": [
    "## NAVER OPENAPI SEARCH_BOOK WITH HTTP.CLIENT "
   ]
  },
  {
   "cell_type": "code",
   "execution_count": null,
   "metadata": {},
   "outputs": [],
   "source": [
    "import os\n",
    "import sys\n",
    "import http.client\n",
    "from xml.dom.minidom import parseString\n",
    "\n",
    "client_id = \"gXbe606rgofEGUymSqwc\"\n",
    "client_secret = \"KTBr5jE9Fl\"\n",
    "\n",
    "conn = http.client.HTTPSConnection(\"openapi.naver.com\")\n",
    "headers = {\"X-Naver-Client-Id\":client_id, \"X-Naver-Client-Secret\":client_secret}\n",
    "encText = \"love\"\n",
    "params = \"?query=\"+encText+\"&display=10&start=1\"\n",
    "\n",
    "conn.request(\"GET\", \"/v1/search/book.xml\"+params, None, headers)\n",
    "res = conn.getresponse()\n",
    "\n",
    "if int(res.status) == 200 :\n",
    "    print (parseString(res.read().decode('utf-8')).toprettyxml())\n",
    "else :\n",
    "    print (\"HTTP Request is failed :\"+res.reason)\n",
    "    print (res.read().decode('utf-8'))\n",
    "\n",
    "conn.close() "
   ]
  }
 ],
 "metadata": {
  "kernelspec": {
   "display_name": "Python [conda env:oracle]",
   "language": "python",
   "name": "conda-env-oracle-py"
  },
  "language_info": {
   "codemirror_mode": {
    "name": "ipython",
    "version": 3
   },
   "file_extension": ".py",
   "mimetype": "text/x-python",
   "name": "python",
   "nbconvert_exporter": "python",
   "pygments_lexer": "ipython3",
   "version": "3.6.3"
  }
 },
 "nbformat": 4,
 "nbformat_minor": 2
}
