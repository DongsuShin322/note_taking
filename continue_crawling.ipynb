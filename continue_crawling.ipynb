{
 "cells": [
  {
   "cell_type": "markdown",
   "metadata": {},
   "source": [
    "# 페리카나 "
   ]
  },
  {
   "cell_type": "code",
   "execution_count": null,
   "metadata": {},
   "outputs": [],
   "source": [
    "from bs4 import BeautifulSoup\n",
    "import requests\n",
    "import pandas as pd\n",
    "import time"
   ]
  },
  {
   "cell_type": "code",
   "execution_count": null,
   "metadata": {},
   "outputs": [],
   "source": [
    "df = pd.DataFrame(columns=['name','addr','tel'])"
   ]
  },
  {
   "cell_type": "code",
   "execution_count": null,
   "metadata": {
    "scrolled": true
   },
   "outputs": [],
   "source": [
    "for page in range(1, 115):\n",
    "    url = \"https://www.pelicana.co.kr/store/stroe_search.html?page={}&branch_name=&gu=&si=\".format(page)\n",
    "    req = requests.get(url, verify=False)\n",
    "    time.sleep(1)\n",
    "    html = req.content\n",
    "    soup = BeautifulSoup(html, 'html.parser')\n",
    "    for t in soup.find('tbody').find_all('tr'):\n",
    "        name = t.find_all('td')[0].text\n",
    "        addr = t.find_all('td')[1].text\n",
    "        tel = t.find_all('td')[2].text.replace('\\r','').replace('\\t','').replace('\\n','')\n",
    "        df = df.append({'name':name, 'addr':addr, 'tel':tel}, ignore_index=True)"
   ]
  },
  {
   "cell_type": "code",
   "execution_count": null,
   "metadata": {},
   "outputs": [],
   "source": [
    "new_df = df.drop(1136)"
   ]
  },
  {
   "cell_type": "code",
   "execution_count": null,
   "metadata": {},
   "outputs": [],
   "source": [
    "new_df.to_csv('/home/dongsu/Desktop/top_brands/pelicana.csv', index=False)"
   ]
  },
  {
   "cell_type": "markdown",
   "metadata": {},
   "source": [
    "# 투다리"
   ]
  },
  {
   "cell_type": "code",
   "execution_count": null,
   "metadata": {
    "scrolled": true
   },
   "outputs": [],
   "source": [
    "from bs4 import BeautifulSoup\n",
    "import requests\n",
    "import pandas as pd\n",
    "import time"
   ]
  },
  {
   "cell_type": "code",
   "execution_count": null,
   "metadata": {},
   "outputs": [],
   "source": [
    "df = pd.DataFrame(columns=['name','addr','tel'])"
   ]
  },
  {
   "cell_type": "code",
   "execution_count": null,
   "metadata": {},
   "outputs": [],
   "source": [
    "for page in range(1, 80):\n",
    "    url = \"http://www.tudari.co.kr/매장찾기/page/{}/\".format(page)\n",
    "    req = requests.get(url)\n",
    "    html = req.content\n",
    "    soup = BeautifulSoup(html, 'html.parser')\n",
    "    time.sleep(0.5)\n",
    "    info = soup.find_all('tr')[1:-4]\n",
    "    for i in info:\n",
    "        name = i.find_all('td')[2].find_all('a')[0].text\n",
    "        addr = i.find_all('td')[2].find_all('a')[-1].text.replace('\\xa0', ' ').replace('\\n','').strip()\n",
    "        tel = i.find('a',class_='mobile_tel')\n",
    "        if tel == None:\n",
    "            tel = ''\n",
    "        else:\n",
    "            tel = tel.text\n",
    "        df = df.append({'name':name, 'addr':addr, 'tel':tel}, ignore_index=True)\n",
    "        \n",
    "    print (page)\n",
    "    if page % 20 == 0:\n",
    "        time.sleep(10)"
   ]
  },
  {
   "cell_type": "code",
   "execution_count": null,
   "metadata": {},
   "outputs": [],
   "source": [
    "df.to_csv('/home/dongsu/Desktop/top_brands/tudari.csv', index=False)"
   ]
  },
  {
   "cell_type": "markdown",
   "metadata": {},
   "source": [
    "# 네네치킨"
   ]
  },
  {
   "cell_type": "code",
   "execution_count": null,
   "metadata": {},
   "outputs": [],
   "source": [
    "from bs4 import BeautifulSoup\n",
    "import requests\n",
    "import pandas as pd\n",
    "import time"
   ]
  },
  {
   "cell_type": "code",
   "execution_count": null,
   "metadata": {},
   "outputs": [],
   "source": [
    "df = pd.DataFrame(columns=['name','addr','tel'])"
   ]
  },
  {
   "cell_type": "code",
   "execution_count": null,
   "metadata": {},
   "outputs": [],
   "source": [
    "for page in range(1,49):\n",
    "    url = \"https://nenechicken.com/17_new/sub_shop01.asp?page={}&ex_select=1&ex_select2=&IndexSword=&GUBUN=A\".format(page)\n",
    "    req = requests.get(url)\n",
    "    html = req.content\n",
    "    soup = BeautifulSoup(html, 'html.parser')\n",
    "    time.sleep(0.5)\n",
    "    for t in soup.find_all('table', class_='shopTable'):\n",
    "        name = t.find('div', class_='shopName').text\n",
    "        addr = t.find('div', class_='shopAdd').text\n",
    "        tel = t.find('a').attrs['href'].split(':')[1]\n",
    "        df = df.append({'name':name, 'addr':addr, 'tel':tel}, ignore_index=True)\n",
    "    print (page)\n",
    "    if page % 20 == 0:\n",
    "        time.sleep(10)"
   ]
  },
  {
   "cell_type": "code",
   "execution_count": null,
   "metadata": {},
   "outputs": [],
   "source": [
    "df.to_csv('/home/dongsu/Desktop/top_brands/nenechicken.csv', index=False)"
   ]
  },
  {
   "cell_type": "markdown",
   "metadata": {},
   "source": [
    "# 베스킨라빈스"
   ]
  },
  {
   "cell_type": "code",
   "execution_count": null,
   "metadata": {
    "scrolled": true
   },
   "outputs": [],
   "source": [
    "from selenium.webdriver.support.select import Select\n",
    "from selenium import webdriver\n",
    "from bs4 import BeautifulSoup\n",
    "import pandas as pd\n",
    "import time"
   ]
  },
  {
   "cell_type": "code",
   "execution_count": null,
   "metadata": {},
   "outputs": [],
   "source": [
    "df = pd.DataFrame(columns=['name','addr','tel'])"
   ]
  },
  {
   "cell_type": "code",
   "execution_count": null,
   "metadata": {},
   "outputs": [],
   "source": [
    "driver = webdriver.Chrome('/home/dongsu/Downloads/chromedriver')\n",
    "driver.get('https://www.baskinrobbins.co.kr/store/map.php')"
   ]
  },
  {
   "cell_type": "code",
   "execution_count": null,
   "metadata": {},
   "outputs": [],
   "source": [
    "bs = BeautifulSoup(driver.page_source, 'html.parser')\n",
    "time.sleep(2)\n",
    "sido_list = []\n",
    "for sido in bs.find('select', {'name':'ScS'}).find_all('option')[1:]:\n",
    "    sido_list.append(sido.text)\n",
    "\n",
    "select_sido = driver.find_element_by_xpath(\"\"\"//*[@id=\"nform\"]/fieldset/p[1]/span[1]/select\"\"\")\n",
    "\n",
    "for s in sido_list:\n",
    "    print (\"시/도 :\", s)\n",
    "    select_sido.send_keys(s)\n",
    "    time.sleep(0.3)\n",
    "    bs = BeautifulSoup(driver.page_source, 'html.parser')\n",
    "    time.sleep(2)\n",
    "    gugun_list = []\n",
    "    for gugun in bs.find('select', {'name':'ScG'}).find_all('option')[1:]:\n",
    "        gugun_list.append(gugun.text)\n",
    "    \n",
    "    select_gugun = driver.find_element_by_xpath(\"\"\"//*[@id=\"nform\"]/fieldset/p[1]/span[2]/select\"\"\")\n",
    "    \n",
    "    for g in gugun_list:\n",
    "        print (\"구/군 :\", g)\n",
    "        select_gugun.send_keys(g)\n",
    "        time.sleep(0.3)\n",
    "        # 검색 버튼 클릭\n",
    "        driver.find_element_by_xpath(\"\"\"//*[@id=\"nform\"]/fieldset/div[2]/button\"\"\").click()\n",
    "        time.sleep(2)\n",
    "        bs = BeautifulSoup(driver.page_source, 'html.parser')\n",
    "        time.sleep(2)\n",
    "        stores = bs.find('div', class_='list').find_all('article')\n",
    "        \n",
    "        for store in stores:\n",
    "            name = store.find('h3').contents[2].replace('\\n','').replace('\\t','')\n",
    "            addr = store.find_all('span')[0].text\n",
    "            tel = store.find_all('span')[1].text\n",
    "            df = df.append({'name':name, 'addr':addr, 'tel':tel}, ignore_index=True)\n",
    "            \n",
    "        print ('---------------------------------------------')\n",
    "        time.sleep(5)"
   ]
  },
  {
   "cell_type": "code",
   "execution_count": null,
   "metadata": {},
   "outputs": [],
   "source": [
    "df.to_csv('/home/dongsu/Desktop/top_brands/baskinrobbins.csv', index=False)"
   ]
  },
  {
   "cell_type": "markdown",
   "metadata": {},
   "source": [
    "# 블루핸즈"
   ]
  },
  {
   "cell_type": "code",
   "execution_count": null,
   "metadata": {},
   "outputs": [],
   "source": [
    "from selenium.webdriver.support.select import Select\n",
    "from selenium import webdriver\n",
    "from bs4 import BeautifulSoup\n",
    "import pandas as pd\n",
    "import time"
   ]
  },
  {
   "cell_type": "code",
   "execution_count": null,
   "metadata": {},
   "outputs": [],
   "source": [
    "df = pd.DataFrame(columns=['name','addr','tel'])"
   ]
  },
  {
   "cell_type": "code",
   "execution_count": null,
   "metadata": {},
   "outputs": [],
   "source": [
    "driver = webdriver.Chrome('/home/dongsu/Downloads/chromedriver')\n",
    "driver.get('https://www.hyundai.com/kr/ko/customer-service/service-network/service-reservation-search')"
   ]
  },
  {
   "cell_type": "code",
   "execution_count": null,
   "metadata": {},
   "outputs": [],
   "source": [
    "# 위치 허용 창 닫기\n",
    "driver.find_element_by_xpath(\"\"\"/html/body/div[2]/div[2]/button\"\"\").click()"
   ]
  },
  {
   "cell_type": "code",
   "execution_count": null,
   "metadata": {},
   "outputs": [],
   "source": [
    "for i in range(1,139):\n",
    "    print (\"page :\", i)\n",
    "    bs = BeautifulSoup(driver.page_source, 'html.parser')\n",
    "    time.sleep(2)\n",
    "    stores = bs.find('tbody', {'id':'listView'}).find_all('tr')\n",
    "    for store in stores:\n",
    "        info = store.find('a')\n",
    "        name = info.attrs['data-shopnm']\n",
    "        addr = info.attrs['data-address']\n",
    "        tel = info.attrs['data-phone']\n",
    "        df = df.append({'name':name, 'addr':addr, 'tel':tel}, ignore_index=True)\n",
    "    if i == 138:\n",
    "        break\n",
    "    elif i <= 130:\n",
    "        driver.find_element_by_xpath(\"\"\"//*[@id=\"pageNavi\"]/button[12]\"\"\").click()\n",
    "        time.sleep(2)\n",
    "    else:\n",
    "        driver.find_element_by_xpath(\"\"\"//*[@id=\"pageNavi\"]/button[10]\"\"\").click()\n",
    "        time.sleep(2)\n",
    "    if i % 20 == 0:\n",
    "        time.sleep(10)"
   ]
  },
  {
   "cell_type": "code",
   "execution_count": null,
   "metadata": {},
   "outputs": [],
   "source": [
    "df.to_csv('/home/dongsu/Desktop/top_brands/bluehands.csv', index=False)"
   ]
  },
  {
   "cell_type": "markdown",
   "metadata": {},
   "source": [
    "# 이마트24"
   ]
  },
  {
   "cell_type": "code",
   "execution_count": null,
   "metadata": {
    "scrolled": true
   },
   "outputs": [],
   "source": [
    "from selenium.webdriver.support.select import Select\n",
    "from selenium import webdriver\n",
    "from bs4 import BeautifulSoup\n",
    "import pandas as pd\n",
    "import time"
   ]
  },
  {
   "cell_type": "code",
   "execution_count": null,
   "metadata": {},
   "outputs": [],
   "source": [
    "df = pd.DataFrame(columns=['name','addr','tel'])"
   ]
  },
  {
   "cell_type": "code",
   "execution_count": null,
   "metadata": {},
   "outputs": [],
   "source": [
    "driver = webdriver.Chrome('/home/dongsu/Downloads/chromedriver')\n",
    "driver.get('https://www.emart24.co.kr/introduce2/findBranch.asp')"
   ]
  },
  {
   "cell_type": "code",
   "execution_count": null,
   "metadata": {
    "scrolled": true
   },
   "outputs": [],
   "source": [
    "for i in range(1, 789):\n",
    "    print (\"page :\", i)\n",
    "    bs = BeautifulSoup(driver.page_source, 'html.parser')\n",
    "    time.sleep(2)\n",
    "    stores = bs.find('div', class_='find_listArea openList').find('tbody').find_all('tr')\n",
    "    for store in stores:\n",
    "        name = store.find('td').text\n",
    "        addr = store.find('p').text.replace('\\xa0', ' ').split('|')[0].strip()\n",
    "        tel = store.find('p', class_='pull-left').text.split(':')[1].replace('\\n','').replace('\\t','').strip()\n",
    "        df = df.append({'name':name, 'addr':addr, 'tel':tel}, ignore_index=True)\n",
    "    if i == 788:\n",
    "        break\n",
    "    elif i <= 780:\n",
    "        driver.find_element_by_xpath(\"\"\"//*[@id=\"skipCont\"]/div[2]/div[2]/div/a[13]\"\"\").click()\n",
    "        time.sleep(2)\n",
    "    else:\n",
    "        driver.find_element_by_xpath(\"\"\"//*[@id=\"skipCont\"]/div[2]/div[2]/div/a[11]\"\"\").click()\n",
    "        time.sleep(2)\n",
    "    if i % 20 == 0:\n",
    "        time.sleep(5)\n",
    "    if i % 100 == 0:\n",
    "        time.sleep(5)"
   ]
  },
  {
   "cell_type": "code",
   "execution_count": null,
   "metadata": {},
   "outputs": [],
   "source": [
    "df.to_csv('/home/dongsu/Desktop/top_brands/emart24.csv', index=False)"
   ]
  },
  {
   "cell_type": "markdown",
   "metadata": {},
   "source": [
    "# 뮤엠영어"
   ]
  },
  {
   "cell_type": "code",
   "execution_count": null,
   "metadata": {},
   "outputs": [],
   "source": [
    "from selenium.webdriver.support.select import Select\n",
    "from selenium import webdriver\n",
    "from bs4 import BeautifulSoup\n",
    "import pandas as pd\n",
    "import time"
   ]
  },
  {
   "cell_type": "code",
   "execution_count": null,
   "metadata": {},
   "outputs": [],
   "source": [
    "driver = webdriver.Chrome('/home/dongsu/Downloads/chromedriver')\n",
    "driver.get('http://mumenglish.com/store_search.asp')"
   ]
  },
  {
   "cell_type": "code",
   "execution_count": null,
   "metadata": {},
   "outputs": [],
   "source": [
    "df = pd.DataFrame(columns=['name','addr','tel'])"
   ]
  },
  {
   "cell_type": "code",
   "execution_count": null,
   "metadata": {},
   "outputs": [],
   "source": [
    "select_sido = Select(driver.find_element_by_id(\"selSido\"))\n",
    "num_sido = len(select_sido.options)\n",
    "for i in range(1, num_sido):\n",
    "    print (\"{}-th 시도\".format(i))\n",
    "    select_sido = Select(driver.find_element_by_id(\"selSido\"))\n",
    "    time.sleep(0.1)\n",
    "    select_sido.select_by_index(i)\n",
    "    time.sleep(1)\n",
    "    select_gu = Select(driver.find_element_by_id(\"selGugun\"))\n",
    "    time.sleep(0.1)\n",
    "    num_gu = len(select_gu.options)\n",
    "    for j in range(1, num_gu):\n",
    "        print (\"{}-th 구군\".format(j))\n",
    "        select_gu = Select(driver.find_element_by_id(\"selGugun\"))\n",
    "        time.sleep(0.1)\n",
    "        select_gu.select_by_index(j)\n",
    "        time.sleep(1)\n",
    "        driver.find_element_by_xpath(\"\"\"//*[@id=\"normal_size\"]/div[4]/table/tbody/tr[2]/td[3]/table/tbody/tr[1]/td/input\"\"\").click()\n",
    "        time.sleep(2)\n",
    "        bs = BeautifulSoup(driver.page_source, 'html.parser')\n",
    "        time.sleep(2)\n",
    "        stores = bs.find('table', {'id':'sf_info'}).find_all('td', class_='infoCla4')\n",
    "        for store in stores:\n",
    "            name = store.contents[5]['onclick'].split(',')[1].replace(\"'\",\"\").strip()\n",
    "            addr = store.contents[0]\n",
    "            tel = store.contents[4].replace('\\xa0', ' ').replace('\\n','').replace('\\t','').replace('Tel.','').replace('(','').replace(')','').strip()\n",
    "            df = df.append({'name':name, 'addr':addr, 'tel':tel}, ignore_index=True)\n",
    "    print (\"-------------------------------------------\")        \n",
    "    time.sleep(10) "
   ]
  },
  {
   "cell_type": "code",
   "execution_count": null,
   "metadata": {},
   "outputs": [],
   "source": [
    "df.to_csv('/home/dongsu/Desktop/top_brands/mumenglish.csv', index=False)"
   ]
  },
  {
   "cell_type": "markdown",
   "metadata": {},
   "source": [
    "# BBQ"
   ]
  },
  {
   "cell_type": "code",
   "execution_count": null,
   "metadata": {},
   "outputs": [],
   "source": [
    "from selenium.webdriver.support.select import Select\n",
    "from selenium import webdriver\n",
    "from bs4 import BeautifulSoup\n",
    "import pandas as pd\n",
    "import time"
   ]
  },
  {
   "cell_type": "code",
   "execution_count": null,
   "metadata": {},
   "outputs": [],
   "source": [
    "df = pd.DataFrame(columns=['name','addr','tel'])"
   ]
  },
  {
   "cell_type": "code",
   "execution_count": null,
   "metadata": {},
   "outputs": [],
   "source": [
    "sido = ['서울','부산','대구','인천','광주','대전','울산','세종','경기','강원','충북','충남','전북','전남','경북','경남','제주']"
   ]
  },
  {
   "cell_type": "code",
   "execution_count": null,
   "metadata": {},
   "outputs": [],
   "source": [
    "driver = webdriver.Chrome('/home/dongsu/Downloads/chromedriver')\n",
    "driver.get('https://www.bbq.co.kr/shop/shopList.asp')\n",
    "driver.maximize_window()"
   ]
  },
  {
   "cell_type": "code",
   "execution_count": null,
   "metadata": {},
   "outputs": [],
   "source": [
    "for i in range(len(sido)):\n",
    "    text_area = driver.find_element_by_xpath(\"\"\"//*[@id=\"search_text\"]\"\"\")\n",
    "    text_area.send_keys(sido[i])\n",
    "    time.sleep(1)\n",
    "    driver.find_element_by_xpath(\"\"\"//*[@id=\"search_form\"]/div/button\"\"\").click()\n",
    "    time.sleep(2)\n",
    "    bs = BeautifulSoup(driver.page_source, 'html.parser')\n",
    "    text_area.clear()\n",
    "    stores = bs.find('div', class_='area on').find_all('a')\n",
    "    for store in stores:\n",
    "        name = store.find('p',class_='subject').text\n",
    "        addr = store.find('p',class_='add').text\n",
    "        tel = store.find('p',class_='tel').text\n",
    "        df = df.append({'name':name, 'addr':addr, 'tel':tel}, ignore_index=True)\n",
    "\n",
    "new_df = df.drop_duplicates()\n",
    "new_df.to_csv('/home/dongsu/Desktop/top_brands/bbq.csv', index=False)"
   ]
  },
  {
   "cell_type": "markdown",
   "metadata": {},
   "source": [
    "# GS25"
   ]
  },
  {
   "cell_type": "code",
   "execution_count": 1,
   "metadata": {},
   "outputs": [
    {
     "name": "stderr",
     "output_type": "stream",
     "text": [
      "/home/dongsu/anaconda3/envs/oracle/lib/python3.6/importlib/_bootstrap.py:219: RuntimeWarning: numpy.dtype size changed, may indicate binary incompatibility. Expected 96, got 88\n",
      "  return f(*args, **kwds)\n"
     ]
    }
   ],
   "source": [
    "from selenium.webdriver.support.select import Select\n",
    "from selenium import webdriver\n",
    "from bs4 import BeautifulSoup\n",
    "import pandas as pd\n",
    "import time"
   ]
  },
  {
   "cell_type": "code",
   "execution_count": 2,
   "metadata": {},
   "outputs": [],
   "source": [
    "driver = webdriver.Chrome('/home/dongsu/Downloads/chromedriver')\n",
    "driver.get('http://gs25.gsretail.com/gscvs/ko/store-services/locations')"
   ]
  },
  {
   "cell_type": "code",
   "execution_count": 3,
   "metadata": {},
   "outputs": [],
   "source": [
    "df = pd.DataFrame(columns=['name','addr'])"
   ]
  },
  {
   "cell_type": "code",
   "execution_count": 20,
   "metadata": {
    "scrolled": true
   },
   "outputs": [
    {
     "name": "stdout",
     "output_type": "stream",
     "text": [
      "page : 617\n",
      "page : 618\n",
      "page : 619\n",
      "page : 620\n",
      "page : 621\n",
      "page : 622\n",
      "page : 623\n",
      "page : 624\n",
      "page : 625\n",
      "page : 626\n",
      "page : 627\n",
      "page : 628\n",
      "page : 629\n",
      "page : 630\n"
     ]
    },
    {
     "ename": "WebDriverException",
     "evalue": "Message: unknown error: Element <a href=\"#next\" class=\"next\" onclick=\"boardViewController.setPagingNowIdx('Next');\">...</a> is not clickable at point (948, 634). Other element would receive the click: <div class=\"blockUI blockOverlay\" style=\"z-index: 1000; border: none; margin: 0px; padding: 0px; width: 100%; height: 100%; top: 0px; left: 0px; background-color: rgb(0, 0, 0); opacity: 0.6; cursor: wait; position: fixed;\"></div>\n  (Session info: chrome=73.0.3683.75)\n  (Driver info: chromedriver=73.0.3683.68 (47787ec04b6e38e22703e856e101e840b65afe72),platform=Linux 4.13.0-41-generic x86_64)\n",
     "output_type": "error",
     "traceback": [
      "\u001b[0;31m---------------------------------------------------------------------------\u001b[0m",
      "\u001b[0;31mWebDriverException\u001b[0m                        Traceback (most recent call last)",
      "\u001b[0;32m<ipython-input-20-b3dfa8f3f495>\u001b[0m in \u001b[0;36m<module>\u001b[0;34m()\u001b[0m\n\u001b[1;32m     12\u001b[0m         \u001b[0;32mbreak\u001b[0m\u001b[0;34m\u001b[0m\u001b[0m\n\u001b[1;32m     13\u001b[0m     \u001b[0;32melse\u001b[0m\u001b[0;34m:\u001b[0m\u001b[0;34m\u001b[0m\u001b[0m\n\u001b[0;32m---> 14\u001b[0;31m         \u001b[0mdriver\u001b[0m\u001b[0;34m.\u001b[0m\u001b[0mfind_element_by_xpath\u001b[0m\u001b[0;34m(\u001b[0m\u001b[0;34m\"\"\"//*[@id=\"pagingTagBox\"]/a[3]\"\"\"\u001b[0m\u001b[0;34m)\u001b[0m\u001b[0;34m.\u001b[0m\u001b[0mclick\u001b[0m\u001b[0;34m(\u001b[0m\u001b[0;34m)\u001b[0m\u001b[0;34m\u001b[0m\u001b[0m\n\u001b[0m\u001b[1;32m     15\u001b[0m         \u001b[0mtime\u001b[0m\u001b[0;34m.\u001b[0m\u001b[0msleep\u001b[0m\u001b[0;34m(\u001b[0m\u001b[0;36m2\u001b[0m\u001b[0;34m)\u001b[0m\u001b[0;34m\u001b[0m\u001b[0m\n\u001b[1;32m     16\u001b[0m \u001b[0;34m\u001b[0m\u001b[0m\n",
      "\u001b[0;32m~/anaconda3/envs/oracle/lib/python3.6/site-packages/selenium/webdriver/remote/webelement.py\u001b[0m in \u001b[0;36mclick\u001b[0;34m(self)\u001b[0m\n\u001b[1;32m     78\u001b[0m     \u001b[0;32mdef\u001b[0m \u001b[0mclick\u001b[0m\u001b[0;34m(\u001b[0m\u001b[0mself\u001b[0m\u001b[0;34m)\u001b[0m\u001b[0;34m:\u001b[0m\u001b[0;34m\u001b[0m\u001b[0m\n\u001b[1;32m     79\u001b[0m         \u001b[0;34m\"\"\"Clicks the element.\"\"\"\u001b[0m\u001b[0;34m\u001b[0m\u001b[0m\n\u001b[0;32m---> 80\u001b[0;31m         \u001b[0mself\u001b[0m\u001b[0;34m.\u001b[0m\u001b[0m_execute\u001b[0m\u001b[0;34m(\u001b[0m\u001b[0mCommand\u001b[0m\u001b[0;34m.\u001b[0m\u001b[0mCLICK_ELEMENT\u001b[0m\u001b[0;34m)\u001b[0m\u001b[0;34m\u001b[0m\u001b[0m\n\u001b[0m\u001b[1;32m     81\u001b[0m \u001b[0;34m\u001b[0m\u001b[0m\n\u001b[1;32m     82\u001b[0m     \u001b[0;32mdef\u001b[0m \u001b[0msubmit\u001b[0m\u001b[0;34m(\u001b[0m\u001b[0mself\u001b[0m\u001b[0;34m)\u001b[0m\u001b[0;34m:\u001b[0m\u001b[0;34m\u001b[0m\u001b[0m\n",
      "\u001b[0;32m~/anaconda3/envs/oracle/lib/python3.6/site-packages/selenium/webdriver/remote/webelement.py\u001b[0m in \u001b[0;36m_execute\u001b[0;34m(self, command, params)\u001b[0m\n\u001b[1;32m    631\u001b[0m             \u001b[0mparams\u001b[0m \u001b[0;34m=\u001b[0m \u001b[0;34m{\u001b[0m\u001b[0;34m}\u001b[0m\u001b[0;34m\u001b[0m\u001b[0m\n\u001b[1;32m    632\u001b[0m         \u001b[0mparams\u001b[0m\u001b[0;34m[\u001b[0m\u001b[0;34m'id'\u001b[0m\u001b[0;34m]\u001b[0m \u001b[0;34m=\u001b[0m \u001b[0mself\u001b[0m\u001b[0;34m.\u001b[0m\u001b[0m_id\u001b[0m\u001b[0;34m\u001b[0m\u001b[0m\n\u001b[0;32m--> 633\u001b[0;31m         \u001b[0;32mreturn\u001b[0m \u001b[0mself\u001b[0m\u001b[0;34m.\u001b[0m\u001b[0m_parent\u001b[0m\u001b[0;34m.\u001b[0m\u001b[0mexecute\u001b[0m\u001b[0;34m(\u001b[0m\u001b[0mcommand\u001b[0m\u001b[0;34m,\u001b[0m \u001b[0mparams\u001b[0m\u001b[0;34m)\u001b[0m\u001b[0;34m\u001b[0m\u001b[0m\n\u001b[0m\u001b[1;32m    634\u001b[0m \u001b[0;34m\u001b[0m\u001b[0m\n\u001b[1;32m    635\u001b[0m     \u001b[0;32mdef\u001b[0m \u001b[0mfind_element\u001b[0m\u001b[0;34m(\u001b[0m\u001b[0mself\u001b[0m\u001b[0;34m,\u001b[0m \u001b[0mby\u001b[0m\u001b[0;34m=\u001b[0m\u001b[0mBy\u001b[0m\u001b[0;34m.\u001b[0m\u001b[0mID\u001b[0m\u001b[0;34m,\u001b[0m \u001b[0mvalue\u001b[0m\u001b[0;34m=\u001b[0m\u001b[0;32mNone\u001b[0m\u001b[0;34m)\u001b[0m\u001b[0;34m:\u001b[0m\u001b[0;34m\u001b[0m\u001b[0m\n",
      "\u001b[0;32m~/anaconda3/envs/oracle/lib/python3.6/site-packages/selenium/webdriver/remote/webdriver.py\u001b[0m in \u001b[0;36mexecute\u001b[0;34m(self, driver_command, params)\u001b[0m\n\u001b[1;32m    319\u001b[0m         \u001b[0mresponse\u001b[0m \u001b[0;34m=\u001b[0m \u001b[0mself\u001b[0m\u001b[0;34m.\u001b[0m\u001b[0mcommand_executor\u001b[0m\u001b[0;34m.\u001b[0m\u001b[0mexecute\u001b[0m\u001b[0;34m(\u001b[0m\u001b[0mdriver_command\u001b[0m\u001b[0;34m,\u001b[0m \u001b[0mparams\u001b[0m\u001b[0;34m)\u001b[0m\u001b[0;34m\u001b[0m\u001b[0m\n\u001b[1;32m    320\u001b[0m         \u001b[0;32mif\u001b[0m \u001b[0mresponse\u001b[0m\u001b[0;34m:\u001b[0m\u001b[0;34m\u001b[0m\u001b[0m\n\u001b[0;32m--> 321\u001b[0;31m             \u001b[0mself\u001b[0m\u001b[0;34m.\u001b[0m\u001b[0merror_handler\u001b[0m\u001b[0;34m.\u001b[0m\u001b[0mcheck_response\u001b[0m\u001b[0;34m(\u001b[0m\u001b[0mresponse\u001b[0m\u001b[0;34m)\u001b[0m\u001b[0;34m\u001b[0m\u001b[0m\n\u001b[0m\u001b[1;32m    322\u001b[0m             response['value'] = self._unwrap_value(\n\u001b[1;32m    323\u001b[0m                 response.get('value', None))\n",
      "\u001b[0;32m~/anaconda3/envs/oracle/lib/python3.6/site-packages/selenium/webdriver/remote/errorhandler.py\u001b[0m in \u001b[0;36mcheck_response\u001b[0;34m(self, response)\u001b[0m\n\u001b[1;32m    240\u001b[0m                 \u001b[0malert_text\u001b[0m \u001b[0;34m=\u001b[0m \u001b[0mvalue\u001b[0m\u001b[0;34m[\u001b[0m\u001b[0;34m'alert'\u001b[0m\u001b[0;34m]\u001b[0m\u001b[0;34m.\u001b[0m\u001b[0mget\u001b[0m\u001b[0;34m(\u001b[0m\u001b[0;34m'text'\u001b[0m\u001b[0;34m)\u001b[0m\u001b[0;34m\u001b[0m\u001b[0m\n\u001b[1;32m    241\u001b[0m             \u001b[0;32mraise\u001b[0m \u001b[0mexception_class\u001b[0m\u001b[0;34m(\u001b[0m\u001b[0mmessage\u001b[0m\u001b[0;34m,\u001b[0m \u001b[0mscreen\u001b[0m\u001b[0;34m,\u001b[0m \u001b[0mstacktrace\u001b[0m\u001b[0;34m,\u001b[0m \u001b[0malert_text\u001b[0m\u001b[0;34m)\u001b[0m\u001b[0;34m\u001b[0m\u001b[0m\n\u001b[0;32m--> 242\u001b[0;31m         \u001b[0;32mraise\u001b[0m \u001b[0mexception_class\u001b[0m\u001b[0;34m(\u001b[0m\u001b[0mmessage\u001b[0m\u001b[0;34m,\u001b[0m \u001b[0mscreen\u001b[0m\u001b[0;34m,\u001b[0m \u001b[0mstacktrace\u001b[0m\u001b[0;34m)\u001b[0m\u001b[0;34m\u001b[0m\u001b[0m\n\u001b[0m\u001b[1;32m    243\u001b[0m \u001b[0;34m\u001b[0m\u001b[0m\n\u001b[1;32m    244\u001b[0m     \u001b[0;32mdef\u001b[0m \u001b[0m_value_or_default\u001b[0m\u001b[0;34m(\u001b[0m\u001b[0mself\u001b[0m\u001b[0;34m,\u001b[0m \u001b[0mobj\u001b[0m\u001b[0;34m,\u001b[0m \u001b[0mkey\u001b[0m\u001b[0;34m,\u001b[0m \u001b[0mdefault\u001b[0m\u001b[0;34m)\u001b[0m\u001b[0;34m:\u001b[0m\u001b[0;34m\u001b[0m\u001b[0m\n",
      "\u001b[0;31mWebDriverException\u001b[0m: Message: unknown error: Element <a href=\"#next\" class=\"next\" onclick=\"boardViewController.setPagingNowIdx('Next');\">...</a> is not clickable at point (948, 634). Other element would receive the click: <div class=\"blockUI blockOverlay\" style=\"z-index: 1000; border: none; margin: 0px; padding: 0px; width: 100%; height: 100%; top: 0px; left: 0px; background-color: rgb(0, 0, 0); opacity: 0.6; cursor: wait; position: fixed;\"></div>\n  (Session info: chrome=73.0.3683.75)\n  (Driver info: chromedriver=73.0.3683.68 (47787ec04b6e38e22703e856e101e840b65afe72),platform=Linux 4.13.0-41-generic x86_64)\n"
     ]
    }
   ],
   "source": [
    "for i in range(617,700):\n",
    "    print ('page :', i)\n",
    "    bs = BeautifulSoup(driver.page_source, 'html.parser')\n",
    "    time.sleep(2)\n",
    "    stores = bs.find('tbody', {'id':'storeInfoList'}).find_all('tr')\n",
    "    for store in stores:\n",
    "        name = store.find_all('td')[0].text\n",
    "        addr = store.find_all('td')[1].find('a').text\n",
    "        df = df.append({'name':name, 'addr':addr}, ignore_index=True)\n",
    "    \n",
    "    if i == 2626:\n",
    "        break\n",
    "    else:\n",
    "        driver.find_element_by_xpath(\"\"\"//*[@id=\"pagingTagBox\"]/a[3]\"\"\").click()\n",
    "        time.sleep(2)\n",
    "        \n",
    "    if i % 20 == 0:\n",
    "        time.sleep(3)"
   ]
  },
  {
   "cell_type": "code",
   "execution_count": 67,
   "metadata": {},
   "outputs": [],
   "source": [
    "df.iloc[:1200].to_csv('/home/dongsu/Desktop/top_brands/gs25_until_240p.csv', index=False)"
   ]
  }
 ],
 "metadata": {
  "kernelspec": {
   "display_name": "Python [conda env:oracle]",
   "language": "python",
   "name": "conda-env-oracle-py"
  },
  "language_info": {
   "codemirror_mode": {
    "name": "ipython",
    "version": 3
   },
   "file_extension": ".py",
   "mimetype": "text/x-python",
   "name": "python",
   "nbconvert_exporter": "python",
   "pygments_lexer": "ipython3",
   "version": "3.6.3"
  }
 },
 "nbformat": 4,
 "nbformat_minor": 2
}
