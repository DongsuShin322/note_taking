{
 "cells": [
  {
   "cell_type": "markdown",
   "metadata": {},
   "source": [
    "# 12/11 (MON)"
   ]
  },
  {
   "cell_type": "markdown",
   "metadata": {},
   "source": [
    "## 대소문자 구분"
   ]
  },
  {
   "cell_type": "markdown",
   "metadata": {},
   "source": [
    "## print"
   ]
  },
  {
   "cell_type": "code",
   "execution_count": null,
   "metadata": {},
   "outputs": [],
   "source": [
    "print (\"\\t탭\\n다음줄\") # 정규식 반영"
   ]
  },
  {
   "cell_type": "code",
   "execution_count": null,
   "metadata": {},
   "outputs": [],
   "source": [
    "print (r\"\\t탭\\n다음줄\") # r은 row의 약자로 정규식 반영 안하고“ ~ ” 그대로 실행"
   ]
  },
  {
   "cell_type": "markdown",
   "metadata": {},
   "source": [
    "## String"
   ]
  },
  {
   "cell_type": "code",
   "execution_count": null,
   "metadata": {},
   "outputs": [],
   "source": [
    "\"py\"\"thon\" # “python”으로 합침"
   ]
  },
  {
   "cell_type": "code",
   "execution_count": null,
   "metadata": {},
   "outputs": [],
   "source": [
    "a = \"python\"\n",
    "a[0] = \"a\" # 문자열은 불변객체이므로 변경 불가능"
   ]
  },
  {
   "cell_type": "markdown",
   "metadata": {},
   "source": [
    "## Unicode"
   ]
  },
  {
   "cell_type": "code",
   "execution_count": null,
   "metadata": {},
   "outputs": [],
   "source": [
    "ord(\"a\") # 문자에 해당하는 유니코드 확인"
   ]
  },
  {
   "cell_type": "code",
   "execution_count": null,
   "metadata": {},
   "outputs": [],
   "source": [
    "chr(97)  # 해당 문자로 반환"
   ]
  },
  {
   "cell_type": "markdown",
   "metadata": {},
   "source": [
    "## List\n",
    "### for x, y in enumerate(list)"
   ]
  },
  {
   "cell_type": "code",
   "execution_count": null,
   "metadata": {},
   "outputs": [],
   "source": [
    "a = [\"apple\", \"banana\", \"orange\"]"
   ]
  },
  {
   "cell_type": "code",
   "execution_count": null,
   "metadata": {},
   "outputs": [],
   "source": [
    "a.append(\"grape\") # 맨 뒤에 값 추가\n",
    "a"
   ]
  },
  {
   "cell_type": "code",
   "execution_count": null,
   "metadata": {},
   "outputs": [],
   "source": [
    "a.insert(1, \"mango\") # 원하는 위치에 하나의 값 추가\n",
    "a"
   ]
  },
  {
   "cell_type": "code",
   "execution_count": null,
   "metadata": {},
   "outputs": [],
   "source": [
    "a.extend([\"melon\",\"peach\",\"mango\"]) # 맨 뒤에 여러개의 값 추가\n",
    "a"
   ]
  },
  {
   "cell_type": "code",
   "execution_count": null,
   "metadata": {},
   "outputs": [],
   "source": [
    "a.index(\"mango\",2) # 해당 값에 해당하는 인덱스 중 원하는 위치의 인덱스 출력"
   ]
  },
  {
   "cell_type": "code",
   "execution_count": null,
   "metadata": {},
   "outputs": [],
   "source": [
    "a.count(\"mango\") # 개수 카운트"
   ]
  },
  {
   "cell_type": "code",
   "execution_count": null,
   "metadata": {},
   "outputs": [],
   "source": [
    "a.pop(3) # 해당 인덱스의 값 뽑아내고 원래 리스트에서 삭제\n",
    "a"
   ]
  },
  {
   "cell_type": "code",
   "execution_count": null,
   "metadata": {},
   "outputs": [],
   "source": [
    "a.remove(\"apple\") # 원하는 값 리스트에서 삭제\n",
    "a"
   ]
  },
  {
   "cell_type": "code",
   "execution_count": null,
   "metadata": {},
   "outputs": [],
   "source": [
    "a.sort() # forward sorting\n",
    "a"
   ]
  },
  {
   "cell_type": "code",
   "execution_count": null,
   "metadata": {},
   "outputs": [],
   "source": [
    "a.reverse() # backward sorting\n",
    "a"
   ]
  },
  {
   "cell_type": "code",
   "execution_count": null,
   "metadata": {},
   "outputs": [],
   "source": [
    "def mysort(x): # 마지막 글자를 기준으로 정렬\n",
    "    return x[-1]\n",
    "a.sort(key=mysort)\n",
    "a"
   ]
  },
  {
   "cell_type": "markdown",
   "metadata": {},
   "source": [
    "## Set : 집합과 동일하며 순서가 없음(유일한 값, 정렬X, index 없음)"
   ]
  },
  {
   "cell_type": "markdown",
   "metadata": {},
   "source": [
    "## Tuple : 리스트와 동일하나 읽기 전용(index 존재)"
   ]
  },
  {
   "cell_type": "markdown",
   "metadata": {},
   "source": [
    "## Dictionary : key 와 value로 구성 "
   ]
  },
  {
   "cell_type": "code",
   "execution_count": null,
   "metadata": {},
   "outputs": [],
   "source": [
    "d = {\"a\":\"apple\",\"b\":\"banana\",\"c\":\"carrot\"}\n",
    "d.items() # key 와 value를 tuple로 반환"
   ]
  },
  {
   "cell_type": "markdown",
   "metadata": {},
   "source": [
    "## 0 : False , 나머지 : True로 인식"
   ]
  },
  {
   "cell_type": "markdown",
   "metadata": {},
   "source": [
    "## [1,2,3] 객체 하나를 a, b 가 같이 참조\n",
    "## (하나만 바꾸어도 둘이 동시에 바뀜)"
   ]
  },
  {
   "cell_type": "code",
   "execution_count": null,
   "metadata": {},
   "outputs": [],
   "source": [
    "a = [1,2,3] \n",
    "b = a\n",
    "b[2] = \"a\"\n",
    "a"
   ]
  },
  {
   "cell_type": "markdown",
   "metadata": {},
   "source": [
    "## 서로 영향을 안주는 다른 객체를 생성하고 싶으면\n",
    "### b = a[:] - copy 한다"
   ]
  },
  {
   "cell_type": "markdown",
   "metadata": {},
   "source": [
    "# 12/12 (TUE)"
   ]
  },
  {
   "cell_type": "markdown",
   "metadata": {},
   "source": [
    "## Function\n",
    "## 함수도 객체다(참조)"
   ]
  },
  {
   "cell_type": "code",
   "execution_count": null,
   "metadata": {},
   "outputs": [],
   "source": [
    "def Times (a, b) :\n",
    "\treturn (a*b)\n",
    "myTimes = Times\n",
    "myTimes(10, 10)"
   ]
  },
  {
   "cell_type": "code",
   "execution_count": null,
   "metadata": {},
   "outputs": [],
   "source": [
    "def swap(x,y):\n",
    "    return y,x\n",
    "swap(1,2)"
   ]
  },
  {
   "cell_type": "code",
   "execution_count": null,
   "metadata": {},
   "outputs": [],
   "source": [
    "def setValue(newValue):\n",
    "    x = newValue\n",
    "retval = setValue(10)    \n",
    "print (retval)"
   ]
  },
  {
   "cell_type": "code",
   "execution_count": null,
   "metadata": {},
   "outputs": [],
   "source": [
    "a = 10\n",
    "def isZero(arg1):\n",
    "    return arg1 == 0\n",
    "isZero(a)"
   ]
  },
  {
   "cell_type": "code",
   "execution_count": null,
   "metadata": {},
   "outputs": [],
   "source": [
    "wordlist = [\"a\",\"b\",\"c\"]\n",
    "def change(x):\n",
    "    x[0] = \"d\"\n",
    "change(wordlist)\n",
    "wordlist"
   ]
  },
  {
   "cell_type": "code",
   "execution_count": null,
   "metadata": {},
   "outputs": [],
   "source": [
    "wordlist = [\"a\",\"b\",\"c\"]\n",
    "def change2(x):\n",
    "    x = x[:]\n",
    "    x[0] = \"d\"\n",
    "change2(wordlist)\n",
    "wordlist"
   ]
  },
  {
   "cell_type": "code",
   "execution_count": null,
   "metadata": {},
   "outputs": [],
   "source": [
    "def Times(a=10, b=20):\n",
    "    return a*b"
   ]
  },
  {
   "cell_type": "markdown",
   "metadata": {},
   "source": [
    "## 가변 인수"
   ]
  },
  {
   "cell_type": "code",
   "execution_count": null,
   "metadata": {},
   "outputs": [],
   "source": [
    "def union2(*ar): # *ar : 갯수가 정해지지 않은 인수를 tuple 형태로 전달\n",
    "    res=[]\n",
    "    for item in ar:\n",
    "        for i in item:\n",
    "            if not i in res:\n",
    "                res.append(i)\n",
    "    return res\n",
    "union2(\"HAM\",\"RAM\",\"KIM\")"
   ]
  },
  {
   "cell_type": "code",
   "execution_count": null,
   "metadata": {},
   "outputs": [],
   "source": [
    "def userURL(server, port, **user): # **ar : 갯수가 정해지지 않은 인수를 dictionary 형태로 전달 \n",
    "    str = \"http://\"+server+\":\"+port+\"/?\"\n",
    "    for key in user.keys():\n",
    "        str += key+\"=\"+user[key]+\"&\"\n",
    "    return str  \n",
    "userURL(\"test.com\", \"8080\", id=\"userid\", passwd=\"1234\")"
   ]
  },
  {
   "cell_type": "markdown",
   "metadata": {},
   "source": [
    "## Recursive Function"
   ]
  },
  {
   "cell_type": "code",
   "execution_count": null,
   "metadata": {},
   "outputs": [],
   "source": [
    "def factorial(x):\n",
    "    if x == 1 :\n",
    "        return 1\n",
    "    return x * factorial(x-1)\n",
    "factorial(10)"
   ]
  },
  {
   "cell_type": "code",
   "execution_count": null,
   "metadata": {},
   "outputs": [],
   "source": [
    "def hanoi(ndisks, start=1, end=3): \n",
    "    if  ndisks: \n",
    "        hanoi(ndisks-1, start, 6-start-end) \n",
    "        print (start, \"번 기둥의\", ndisks, \"번 원반을\", end, \"번 기둥에 옮겨라\")\n",
    "        hanoi(ndisks-1, 6-start-end, end)\n",
    "hanoi(ndisks=3) "
   ]
  },
  {
   "cell_type": "markdown",
   "metadata": {},
   "source": [
    "## pass : 아무것도 하지마라"
   ]
  },
  {
   "cell_type": "markdown",
   "metadata": {},
   "source": [
    "## lambda : 이름 없는 한 줄짜리 함수"
   ]
  },
  {
   "cell_type": "code",
   "execution_count": null,
   "metadata": {},
   "outputs": [],
   "source": [
    "g = lambda x,y : x*y\n",
    "g(2,3)"
   ]
  },
  {
   "cell_type": "markdown",
   "metadata": {},
   "source": [
    "## Generator"
   ]
  },
  {
   "cell_type": "code",
   "execution_count": null,
   "metadata": {},
   "outputs": [],
   "source": [
    "def reverse(data):\n",
    "    for index in range(len(data)-1, -1, -1): # (len(data)-1 ~ 0까지 -1 간격으로)\n",
    "        yield data[index]\n",
    "for char in reverse(\"golf\"):\n",
    "    print(char)        "
   ]
  },
  {
   "cell_type": "code",
   "execution_count": null,
   "metadata": {},
   "outputs": [],
   "source": [
    "def Fibonacci():\n",
    "    a,b = 0,1\n",
    "    while 1:\n",
    "        yield a\n",
    "        a,b=b,a+b   \n",
    "for i, value in enumerate(Fibonacci()):\n",
    "    if i<2 :\n",
    "        print (i, value)\n",
    "    else : break           "
   ]
  },
  {
   "cell_type": "markdown",
   "metadata": {},
   "source": [
    "## Zip : tuple 로 묶어줌 (공통 갯수 기준)"
   ]
  },
  {
   "cell_type": "code",
   "execution_count": null,
   "metadata": {},
   "outputs": [],
   "source": [
    "s1= [\"a\",\"b\",\"c\"]\n",
    "s2= [\"d\",\"e\",\"f\"]\n",
    "s3= [\"g\",\"h\"]\n",
    "z = zip(s1,s2,s3)\n",
    "list(z)"
   ]
  },
  {
   "cell_type": "markdown",
   "metadata": {},
   "source": [
    "# 12/13 (WED)"
   ]
  },
  {
   "cell_type": "markdown",
   "metadata": {},
   "source": [
    "## If 문"
   ]
  },
  {
   "cell_type": "code",
   "execution_count": null,
   "metadata": {},
   "outputs": [],
   "source": [
    "score = int(input(\"score : \")) # 사용자로부터 입력받아 int로 변환\n",
    "if 90 <= score <= 100:\n",
    "    print (\"score가 90보다 크거나 같습니다\")\n",
    "else :\n",
    "    print (\"score는 90보다 작습니다\")"
   ]
  },
  {
   "cell_type": "markdown",
   "metadata": {},
   "source": [
    "## 단축평가 : 조건식 전체 판단하지 않고, 자명한 경우 더 이상 수식 평가 안함 (and / or)"
   ]
  },
  {
   "cell_type": "code",
   "execution_count": null,
   "metadata": {},
   "outputs": [],
   "source": [
    "a = 0\n",
    "if a & 10/a : print (\"a=0\") # & 는 앞, 뒤 모두 체크\n",
    "else : print (\"에러없이 통과\")    "
   ]
  },
  {
   "cell_type": "code",
   "execution_count": null,
   "metadata": {},
   "outputs": [],
   "source": [
    "a = 0\n",
    "if a and 10/a : print (\"a=0\") # and 는 앞이 False이면 뒤 실행 안함\n",
    "else : print (\"에러없이 통과\")    "
   ]
  },
  {
   "cell_type": "code",
   "execution_count": null,
   "metadata": {},
   "outputs": [],
   "source": [
    "a = 0\n",
    "b = 1\n",
    "if b | 10/a : print (\"a=0\") # | 는 앞, 뒤 모두 체크\n",
    "else : print (\"에러없이 통과\")    "
   ]
  },
  {
   "cell_type": "code",
   "execution_count": null,
   "metadata": {},
   "outputs": [],
   "source": [
    "a = 0\n",
    "b = 1\n",
    "if b or 10/a : print (\"a=0\") # or 는 앞이 True면 뒤 실행 안함\n",
    "else : print (\"에러없이 통과\")    "
   ]
  },
  {
   "cell_type": "markdown",
   "metadata": {},
   "source": [
    "## while 문 : 조건식 평가 - 구문수행 - 조건식 재평가"
   ]
  },
  {
   "cell_type": "code",
   "execution_count": null,
   "metadata": {},
   "outputs": [],
   "source": [
    "value = 5\n",
    "while value > 0 :\n",
    "    print (value)\n",
    "    value -= 1"
   ]
  },
  {
   "cell_type": "markdown",
   "metadata": {},
   "source": [
    "## for 문 - 구구단"
   ]
  },
  {
   "cell_type": "code",
   "execution_count": null,
   "metadata": {},
   "outputs": [],
   "source": [
    "for n in range(1,10):\n",
    "    print(\"-- {0} 단 --\".format(n))\n",
    "    for i in range(1,10):\n",
    "        print (\"{0}*{1}={2}\".format(n, i, n*i))  # {arg1}{arg2}.format(arg1값, arg2값)"
   ]
  },
  {
   "cell_type": "markdown",
   "metadata": {},
   "source": [
    "## Continue 와 Break 로 반복문 제어"
   ]
  },
  {
   "cell_type": "code",
   "execution_count": null,
   "metadata": {},
   "outputs": [],
   "source": [
    "for i in range(1,11):\n",
    "    if i > 5 :\n",
    "        break # break : 반복문 종료 (else문 실행 안됨)\n",
    "    print (\"item:{0}\".format(i))\n",
    "else : \n",
    "    print (\"Exit without break\")\n",
    "print (\"Always this is printed\")    "
   ]
  },
  {
   "cell_type": "code",
   "execution_count": null,
   "metadata": {},
   "outputs": [],
   "source": [
    "for i in range(1,11):\n",
    "    if i % 2 == 0 :\n",
    "        continue # continue : 반복문으로 돌아가 다시 실행하라\n",
    "    print (\"item:{0}\".format(i))\n",
    "else : # else 문 : Break로 반복문이 중간 종료되지 않고 끝까지 수행된 후 실행\n",
    "    print (\"Exit without break\")\n",
    "print (\"Always this is printed\")  "
   ]
  },
  {
   "cell_type": "markdown",
   "metadata": {},
   "source": [
    "## List comprehension"
   ]
  },
  {
   "cell_type": "code",
   "execution_count": null,
   "metadata": {},
   "outputs": [],
   "source": [
    "L = [10,20,30,40]\n",
    "list(filter(lambda x: x>20 ,L)) # filter(function, 시퀀스 객체)"
   ]
  },
  {
   "cell_type": "code",
   "execution_count": null,
   "metadata": {},
   "outputs": [],
   "source": [
    "some_tuples = [(1,2,3),(4,5,6),(7,8,9)] # 중첩된 리스트\n",
    "flattened = [x for tup in some_tuples for x in tup]"
   ]
  },
  {
   "cell_type": "markdown",
   "metadata": {},
   "source": [
    "## Map : map(function, 시퀀스 객체) : 시퀀스 객체 순회하며 function 수행"
   ]
  },
  {
   "cell_type": "code",
   "execution_count": null,
   "metadata": {},
   "outputs": [],
   "source": [
    "L = [1,2,3]\n",
    "def Add10(x):\n",
    "    return x+10\n",
    "for i in map(Add10, L):\n",
    "    print (\"item:{0}\".format(i))\n",
    "\n",
    "x = [1,2,3]\n",
    "y = [2,3,4]\n",
    "list(map(pow, x, y))"
   ]
  },
  {
   "cell_type": "markdown",
   "metadata": {},
   "source": [
    "## Class"
   ]
  },
  {
   "cell_type": "code",
   "execution_count": 1,
   "metadata": {},
   "outputs": [
    {
     "name": "stdout",
     "output_type": "stream",
     "text": [
      "My Name is Default Name\n"
     ]
    }
   ],
   "source": [
    "class person: # 클래스 정의\n",
    "    Name = \"Default Name\" # 멤버 변수\n",
    "    def Print(self): # 멤버 메소드\n",
    "        print(\"My Name is {0}\".format(self.Name))\n",
    "p1 = person() # 인스턴스 객체 생성\n",
    "p1.Print() # 멤버 변수값 출력    ==  person.Print(p1) 과 동일 "
   ]
  },
  {
   "cell_type": "code",
   "execution_count": 6,
   "metadata": {},
   "outputs": [
    {
     "name": "stdout",
     "output_type": "stream",
     "text": [
      "True\n",
      "True\n",
      "True\n",
      "False\n"
     ]
    }
   ],
   "source": [
    "class Person:\n",
    "    pass\n",
    "class Bird:\n",
    "    pass\n",
    "class Student(Person): # Student 가 Person 상속 \n",
    "    pass\n",
    "p, s = Person(), Student()\n",
    "\n",
    "print (isinstance(p, Person)) # p is instance of Person\n",
    "print (isinstance(s, Person)) # s is instance of Person\n",
    "print (isinstance(p, object)) # p is instance of object\n",
    "print (isinstance(p, Bird)) # p is not instance of Bird"
   ]
  },
  {
   "cell_type": "markdown",
   "metadata": {},
   "source": [
    "### 생성자 : 인스턴스 객체가 생성될 때 자동으로 호출 __init__()\n",
    "### 소멸자 : 인스턴스 객체의 참조 카운터가 '0'이 될때 호출 __del__()"
   ]
  },
  {
   "cell_type": "code",
   "execution_count": 15,
   "metadata": {},
   "outputs": [
    {
     "name": "stdout",
     "output_type": "stream",
     "text": [
      "Class is created! Value =  10\n",
      "del_mothod has not called yet\n",
      "Class is deleted!\n"
     ]
    }
   ],
   "source": [
    "class Myclass:\n",
    "    def __init__(self, value): # 생성자 메소드\n",
    "        self.Value = value\n",
    "        print (\"Class is created! Value = \", value)\n",
    "    \n",
    "    def __del__(self): # 소멸자 메소드\n",
    "        print (\"Class is deleted!\")\n",
    "        \n",
    "        \n",
    "def foo():\n",
    "    d = Myclass(10) # 함수 foo 블록안에서만 인스턴스 객체 d가 존재  \n",
    "                    #local variable 로써 scope 벗어나는 순간 참조 카운터가 0이 되어사라짐!!!\n",
    "    print (\"destructor has not called yet\")\n",
    "     \n",
    "foo()    "
   ]
  },
  {
   "cell_type": "markdown",
   "metadata": {},
   "source": [
    "### static method : 인스턴스 객체를 통하지 않고, 클래스를 통해 직접 호출할 수 있는 메소드\n",
    "### class method : 클래스 영역의 데이터에 직접 접근할 수 있는 메소드(암시적으로 첫 인자로 클래스 객체가 전달)  - 객체로 접근 "
   ]
  },
  {
   "cell_type": "code",
   "execution_count": 65,
   "metadata": {},
   "outputs": [],
   "source": [
    "class CounterManager:\n",
    "    insCount = 0\n",
    "    def __init__(self):\n",
    "        CounterManager.insCount += 1\n",
    "    def staticPrintCount():\n",
    "        print (\"InstanceCount:\",CounterManager.insCount)\n",
    "    SPrintCount = staticmethod(staticPrintCount)\n",
    "    def classPrintCount(self):\n",
    "        print (\"InstanceCount:\",self.insCount)\n",
    "    CPrintCount = classmethod(classPrintCount)"
   ]
  },
  {
   "cell_type": "code",
   "execution_count": 66,
   "metadata": {},
   "outputs": [],
   "source": [
    "a, b, c = CounterManager(), CounterManager(), CounterManager()"
   ]
  },
  {
   "cell_type": "code",
   "execution_count": 71,
   "metadata": {},
   "outputs": [
    {
     "name": "stdout",
     "output_type": "stream",
     "text": [
      "InstanceCount: 3\n",
      "InstanceCount: 3\n"
     ]
    }
   ],
   "source": [
    "CounterManager.SPrintCount()\n",
    "b.SPrintCount()"
   ]
  },
  {
   "cell_type": "code",
   "execution_count": 72,
   "metadata": {},
   "outputs": [
    {
     "name": "stdout",
     "output_type": "stream",
     "text": [
      "InstanceCount: 3\n",
      "InstanceCount: 3\n"
     ]
    }
   ],
   "source": [
    "CounterManager.CPrintCount()\n",
    "b.CPrintCount()"
   ]
  },
  {
   "cell_type": "markdown",
   "metadata": {},
   "source": [
    "# 12/14 (THU)"
   ]
  },
  {
   "cell_type": "markdown",
   "metadata": {},
   "source": [
    "## 연산자 중복(Overloading) - same Only name / different arg"
   ]
  },
  {
   "cell_type": "markdown",
   "metadata": {},
   "source": [
    "## 상속"
   ]
  },
  {
   "cell_type": "code",
   "execution_count": 9,
   "metadata": {},
   "outputs": [],
   "source": [
    "class Person:\n",
    "    def __init__(self, name, phoneNumber):\n",
    "        self.Name = name\n",
    "        self.PhoneNumber = phoneNumber\n",
    "class Student(Person):\n",
    "    def __init__(self, name, phoneNumber, subject, studentID):\n",
    "        self.Name = name\n",
    "        self.PhoneNumber = phoneNumber\n",
    "        self.Subject = subject\n",
    "        self.StudentID = studentID"
   ]
  },
  {
   "cell_type": "code",
   "execution_count": 10,
   "metadata": {},
   "outputs": [
    {
     "data": {
      "text/plain": [
       "True"
      ]
     },
     "execution_count": 10,
     "metadata": {},
     "output_type": "execute_result"
    }
   ],
   "source": [
    "issubclass(Student, Person) # 상속관계 확인 (자식, 부모)"
   ]
  },
  {
   "cell_type": "markdown",
   "metadata": {},
   "source": [
    "## 다중상속 - 두 개 이상의 클래스로부터 상속받음 (Impossible in Java)"
   ]
  },
  {
   "cell_type": "code",
   "execution_count": 16,
   "metadata": {},
   "outputs": [],
   "source": [
    "class Tiger:\n",
    "    def Jump(self):\n",
    "        print (\"Tiger Jump\")\n",
    "    def Bite(self):\n",
    "        print (\"Tiger Bite\")\n",
    "class Lion:\n",
    "    def Jump(self):\n",
    "        print (\"Lion Jump\")\n",
    "    def Bite(self):\n",
    "        print (\"Lion Bite\")\n",
    "class Liger(Tiger, Lion): # 같은 메소드나 변수가 있을 시 Tiger 우선순위!\n",
    "    def Play(self):\n",
    "        print (\"Liger Play\")"
   ]
  },
  {
   "cell_type": "markdown",
   "metadata": {},
   "source": [
    "## Overriding(재정의)"
   ]
  },
  {
   "cell_type": "code",
   "execution_count": 1,
   "metadata": {},
   "outputs": [],
   "source": [
    "class SuperClass:\n",
    "    x = 10\n",
    "    def printX(self):\n",
    "        print(self.x)\n",
    "class SubClass(SuperClass):\n",
    "    y = 20\n",
    "    def printY(self):\n",
    "        print(self.y)\n",
    "    def printX(self):\n",
    "        print(\"sub:\",self.x)\n",
    "s = SubClass()\n",
    "s.printX()"
   ]
  },
  {
   "cell_type": "markdown",
   "metadata": {},
   "source": [
    "### static : class 내에서 유일! 공유한다. 객체를 참조할 필요없다."
   ]
  },
  {
   "cell_type": "markdown",
   "metadata": {},
   "source": [
    "## 다형성 : 상위자료형을 부름으로써 하위자료형 실행"
   ]
  },
  {
   "cell_type": "markdown",
   "metadata": {},
   "source": [
    "### 상속을 받았을 때 일반적으로는 bottom-up 으로 실행 but 부모 클래스에 있는 메소드를 먼저 실행하고 싶을때 super() 사용"
   ]
  },
  {
   "cell_type": "code",
   "execution_count": 54,
   "metadata": {},
   "outputs": [],
   "source": [
    "class Animal:\n",
    "    def __init__(self):\n",
    "        print (\"Animal __init()__\")\n",
    "        \n",
    "class Tiger(Animal):\n",
    "    def __init__(self):\n",
    "        super().__init__()\n",
    "        print (\"Tiger __init()__\")\n",
    "       \n",
    "class Lion(Animal):\n",
    "    def __init__(self):\n",
    "        super().__init__() # Tiger - Liger 순서를 깨지 않기 위해 Lion이 먼저 실행\n",
    "        print (\"Lion __init()__\")\n",
    "        \n",
    "class Liger(Tiger, Lion):\n",
    "    def __init__(self):\n",
    "        super().__init__() # Tiger 가 우선순위이므로 Tiger만 뒤짐\n",
    "        print (\"Liger __init()__\")          "
   ]
  },
  {
   "cell_type": "code",
   "execution_count": 55,
   "metadata": {},
   "outputs": [
    {
     "name": "stdout",
     "output_type": "stream",
     "text": [
      "Animal __init()__\n",
      "Lion __init()__\n",
      "Tiger __init()__\n",
      "Liger __init()__\n"
     ]
    }
   ],
   "source": [
    "l = Liger()"
   ]
  },
  {
   "cell_type": "markdown",
   "metadata": {},
   "source": [
    "## Module - sys.path 안에 있어야 됨 (추가시 sys.path.append(\"path\"))"
   ]
  },
  {
   "cell_type": "markdown",
   "metadata": {},
   "source": [
    "## dir(모듈) : 모듈 안에 있는 함수, 데이터 조회"
   ]
  },
  {
   "cell_type": "code",
   "execution_count": null,
   "metadata": {},
   "outputs": [],
   "source": []
  }
 ],
 "metadata": {
  "kernelspec": {
   "display_name": "Python [conda env:oracle]",
   "language": "python",
   "name": "conda-env-oracle-py"
  },
  "language_info": {
   "codemirror_mode": {
    "name": "ipython",
    "version": 3
   },
   "file_extension": ".py",
   "mimetype": "text/x-python",
   "name": "python",
   "nbconvert_exporter": "python",
   "pygments_lexer": "ipython3",
   "version": "3.6.3"
  }
 },
 "nbformat": 4,
 "nbformat_minor": 2
}
