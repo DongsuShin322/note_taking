{
 "cells": [
  {
   "cell_type": "markdown",
   "metadata": {},
   "source": [
    "# 스타벅스"
   ]
  },
  {
   "cell_type": "code",
   "execution_count": null,
   "metadata": {},
   "outputs": [],
   "source": [
    "from selenium import webdriver\n",
    "from bs4 import BeautifulSoup\n",
    "import pandas as pd\n",
    "import time"
   ]
  },
  {
   "cell_type": "code",
   "execution_count": null,
   "metadata": {},
   "outputs": [],
   "source": [
    "# Empty DataFrame 생성\n",
    "df = pd.DataFrame(columns=['name','addr','tel'])"
   ]
  },
  {
   "cell_type": "code",
   "execution_count": null,
   "metadata": {},
   "outputs": [],
   "source": [
    "# 스타벅스 매장 찾기\n",
    "driver = webdriver.Chrome('C:/Users/ds.sin/Desktop/Python/crawling/chromedriver')\n",
    "driver.get('https://www.istarbucks.co.kr/store/store_map.do')"
   ]
  },
  {
   "cell_type": "code",
   "execution_count": null,
   "metadata": {},
   "outputs": [],
   "source": [
    "# 지역 검색\n",
    "driver.find_element_by_xpath(\"\"\"//*[@id=\"container\"]/div/form/fieldset/div/section/article[1]/article/header[2]/h3/a\"\"\").click()"
   ]
  },
  {
   "cell_type": "code",
   "execution_count": null,
   "metadata": {},
   "outputs": [],
   "source": [
    "# 현재 페이지 파싱\n",
    "bs = BeautifulSoup(driver.page_source, 'html.parser')"
   ]
  },
  {
   "cell_type": "code",
   "execution_count": null,
   "metadata": {},
   "outputs": [],
   "source": [
    "# 17개 시도\n",
    "sido_list = []\n",
    "for temp in bs.find('ul', class_='sido_arae_box').find_all('a'):\n",
    "    sido_list.append(temp.text)\n",
    "print (sido_list)"
   ]
  },
  {
   "cell_type": "code",
   "execution_count": null,
   "metadata": {},
   "outputs": [],
   "source": [
    "# 각 시도에 접근\n",
    "for i in range(1, len(sido_list)+1):\n",
    "    driver.find_element_by_xpath(\"\"\"//*[@id=\"container\"]/div/form/fieldset/div/section/article[1]/article/article[2]/div[1]/div[2]/ul/li[{}]/a\"\"\".format(i)).click()\n",
    "    time.sleep(1)\n",
    "    if not i == len(sido_list): # i = 17(세종)은 전체 클릭 필요X\n",
    "        # 전체 클릭\n",
    "        driver.find_element_by_xpath(\"\"\"//*[@id=\"mCSB_2_container\"]/ul/li[1]/a\"\"\").click()\n",
    "        time.sleep(1)\n",
    "    sido_bs = BeautifulSoup(driver.page_source, 'html.parser')\n",
    "    time.sleep(3)\n",
    "    li_list = sido_bs.find('ul', class_='quickSearchResultBoxSidoGugun').find_all('li')\n",
    "    for li in li_list:\n",
    "        name = li.attrs['data-name']\n",
    "        info = li.find('p').contents\n",
    "        addr = info[0]\n",
    "        tel = info[2]\n",
    "        df = df.append({'name':name, 'addr':addr, 'tel':tel}, ignore_index=True)\n",
    "    print ('{} is done'.format(sido_list[i-1]))\n",
    "    # 지역 검색\n",
    "    driver.find_element_by_xpath(\"\"\"//*[@id=\"container\"]/div/form/fieldset/div/section/article[1]/article/header[2]/h3/a\"\"\").click()\n",
    "    time.sleep(1)\n",
    "print (df.shape)\n",
    "print (df)"
   ]
  },
  {
   "cell_type": "markdown",
   "metadata": {},
   "source": [
    "# 이디야"
   ]
  },
  {
   "cell_type": "code",
   "execution_count": null,
   "metadata": {},
   "outputs": [],
   "source": [
    "from selenium import webdriver\n",
    "from bs4 import BeautifulSoup\n",
    "import pandas as pd\n",
    "import time"
   ]
  },
  {
   "cell_type": "code",
   "execution_count": null,
   "metadata": {
    "scrolled": true
   },
   "outputs": [],
   "source": [
    "# 이디야 매장 찾기\n",
    "driver = webdriver.Chrome('C:/Users/ds.sin/Desktop/Python/crawling/chromedriver')\n",
    "driver.get('https://www.ediya.com/contents/find_store.html#c')"
   ]
  },
  {
   "cell_type": "code",
   "execution_count": null,
   "metadata": {},
   "outputs": [],
   "source": [
    "# 주소로 찾기\n",
    "driver.find_element_by_xpath(\"\"\"//*[@id=\"contentWrap\"]/div[3]/div/div[2]/ul/li[2]/a\"\"\").click()"
   ]
  },
  {
   "cell_type": "code",
   "execution_count": null,
   "metadata": {},
   "outputs": [],
   "source": [
    "Seoul = ['서울 종로구','서울 중구','서울 용산구','서울 성동구','서울 광진구',\n",
    "'서울 동대문구','서울 중랑구','서울 성북구','서울 강북구','서울 도봉구',\n",
    "'서울 노원구','서울 은평구','서울 서대문구','서울 마포구','서울 양천구',\n",
    "'서울 강서구','서울 구로구','서울 금천구','서울 영등포구','서울 동작구',\n",
    "'서울 관악구','서울 서초구','서울 강남구','서울 송파구','서울 강동구']\n",
    "\n",
    "Busan = ['부산 중구','부산 서구','부산 동구','부산 영도구','부산 부산진구',\n",
    "         '부산 동래구','부산 남구','부산 북구','부산 강서구','부산 해운대구',\n",
    "         '부산 사하구','부산 금정구','부산 연제구','부산 수영구','부산 사상구',\n",
    "         '부산 기장군']\n",
    "\n",
    "Daegu = ['대구 중구','대구 동구','대구 남구','대구 북구',\n",
    "         '대구 수성구','대구 달서구','대구 달성군']\n",
    "\n",
    "Incheon = ['인천 중구','인천 동구','인천 미추홀구','인천 연수구','인천 남동구',\n",
    "           '인천 부평구','인천 계양구','인천 서구','인천 강화군','인천 옹진군']\n",
    "\n",
    "Gwangju = ['광주 동구','광주 서구','광주 남구','광주 북구','광주 광산구']\n",
    "\n",
    "Daejeon = ['대전']\n",
    "\n",
    "Ulsan = ['울산 중구','울산 남구','울산 동구','울산 북구','울산 울주군']\n",
    "\n",
    "Sejong = ['세종특별자치시']\n",
    "\n",
    "Gyeonggi = ['경기도','경기 수원시 장안구','경기 수원시 팔달구','경기 수원시 권선구',\n",
    "            '경기 수원시 영통구','경기 성남시 수정구','경기 성남시 중원구',\n",
    "            '경기 성남시 분당구','경기 안양시','경기 안산시','경기 용인시 처인구',\n",
    "            '경기 용인시 기흥구','경기 용인시 수지구','경기 광명시','경기 평택시',\n",
    "            '경기 과천시','경기 오산시','경기 시흥시','경기 군포시','경기 의왕시',\n",
    "            '경기 하남시','경기 이천시','경기 안성시','경기 김포시','경기 화성시',\n",
    "            '경기 광주시','경기 여주시','경기 부천시','경기 양평군','경기 고양시 덕양구',\n",
    "            '경기 고양시 일산동구','경기 고양시 일산서구','경기 의정부시','경기 동두천시',\n",
    "            '경기 구리시','경기 남양주시','경기 파주시','경기 양주시','경기 포천시',\n",
    "            '경기 연천군','경기 가평군']\n",
    "\n",
    "Gangwon = ['강원 춘천시','강원 원주시','강원 강릉시','강원 동해시','강원 속초시',\n",
    "           '강원 삼척시','강원 홍천군','강원 평창군','강원 정선군','강원 철원군',\n",
    "           '강원 화천군','강원 양구군','강원 인제군','강원 고성군','강원 양양군']\n",
    "\n",
    "Choongbook = ['충북 청주시','충북 충주시','충북 제천시','충북 보은군','충북 옥천군',\n",
    "              '충북 영동군','충북 진천군','충북 괴산군','충북 음성군','충북 단양군',\n",
    "              '충북 증평군']\n",
    "\n",
    "Choongnam = ['충남 천안시','충남 공주시','충남 보령시','충남 아산시','충남 서산시',\n",
    "             '충남 논산시','충남 당진시','충남 금산군','충남 부여군','충남 서천군',\n",
    "             '충남 홍성군','충남 예산군','충남 태안군']\n",
    "\n",
    "Jeonbook = ['전북 전주시','전북 군산시','전북 익산시','전북 정읍시','전북 남원시',\n",
    "            '전북 김제시','전북 완주군','전북 진안군','전북 무주군','전북 장수군',\n",
    "            '전북 임실군','전북 순창군','전북 고창군','전북 부안군']\n",
    "\n",
    "Jeonnam = ['전남 목포시','전남 여수시','전남 순천시','전남 나주시','전남 광양시',\n",
    "           '전남 담양군','전남 곡성군','전남 고흥군','전남 화순군','전남 장흥군',\n",
    "           '전남 강진군','전남 해남군','전남 영암군','전남 무안군','전남 영광군',\n",
    "           '전남 장성군','전남 완도군','전남 진도군']\n",
    "\n",
    "Gyeongbook = ['경북 포항시','경북 경주시','경북 김천시','경북 안동시','경북 구미시',\n",
    "              '경북 영주시','경북 영천시','경북 상주시','경북 문경시','경북 경산시',\n",
    "              '경북 청송군','경북 영덕군','경북 청도군','경북 고령군','경북 성주군',\n",
    "              '경북 칠곡군','경북 예천군','경북 봉화군','경북 울진군']\n",
    "\n",
    "Gyeongnam = ['경남 창원시','경남 진주시','경남 통영시','경남 사천시','경남 김해시',\n",
    "             '경남 밀양시','경남 거제시','경남 양산시','경남 함안군','경남 창녕군',\n",
    "             '경남 고성군','경남 남해군','경남 산청군','경남 함양군','경남 거창군',\n",
    "             '경남 합천군']\n",
    "\n",
    "Jeju = ['제주특별자치도']"
   ]
  },
  {
   "cell_type": "code",
   "execution_count": null,
   "metadata": {},
   "outputs": [],
   "source": [
    "united = Seoul + Busan + Daegu + Incheon + Gwangju + Daejeon + Ulsan + Sejong + Gyeonggi \\\n",
    " + Gangwon + Choongbook + Choongnam + Jeonbook + Jeonnam + Gyeongbook + Gyeongnam + Jeju"
   ]
  },
  {
   "cell_type": "code",
   "execution_count": null,
   "metadata": {},
   "outputs": [],
   "source": [
    "# Empty DataFrame 생성\n",
    "df = pd.DataFrame(columns=['name','addr'])"
   ]
  },
  {
   "cell_type": "code",
   "execution_count": null,
   "metadata": {},
   "outputs": [],
   "source": [
    "# 주소 입력\n",
    "text_area = driver.find_element_by_xpath(\"\"\"//*[@id=\"keyword\"]\"\"\")\n",
    "num = 1\n",
    "for u in united:\n",
    "    text_area.send_keys(u)\n",
    "    text_area.submit()\n",
    "    time.sleep(0.5)\n",
    "    bs = BeautifulSoup(driver.page_source, 'html.parser')\n",
    "    time.sleep(3)\n",
    "    for i in bs.find_all('li', class_='item'):\n",
    "        name = i.find('dt').text\n",
    "        addr = i.find('dd').text\n",
    "        df = df.append({'name':name, 'addr':addr}, ignore_index=True)\n",
    "    text_area.clear()\n",
    "    print ('{} - finished'.format(u))\n",
    "    num += 1\n",
    "    \n",
    "    if num % 20 == 0:\n",
    "        time.sleep(10)\n",
    "driver.close()"
   ]
  },
  {
   "cell_type": "code",
   "execution_count": null,
   "metadata": {
    "scrolled": true
   },
   "outputs": [],
   "source": [
    "df.to_csv('C:/Users/ds.sin/Desktop/Top_brand/ediya.csv', encoding='cp949', index=False)"
   ]
  },
  {
   "cell_type": "markdown",
   "metadata": {},
   "source": [
    "# CU"
   ]
  },
  {
   "cell_type": "code",
   "execution_count": null,
   "metadata": {},
   "outputs": [],
   "source": [
    "from selenium import webdriver\n",
    "from bs4 import BeautifulSoup\n",
    "import pandas as pd\n",
    "import time"
   ]
  },
  {
   "cell_type": "code",
   "execution_count": null,
   "metadata": {},
   "outputs": [],
   "source": [
    "# CU 매장 찾기\n",
    "driver = webdriver.Chrome('C:/Users/ds.sin/Desktop/Python/crawling/chromedriver')\n",
    "driver.get('http://cu.bgfretail.com/store/list.do?category=store')"
   ]
  },
  {
   "cell_type": "code",
   "execution_count": null,
   "metadata": {},
   "outputs": [],
   "source": [
    "# 현재 페이지 파싱\n",
    "bs = BeautifulSoup(driver.page_source, 'html.parser') # 1페이지"
   ]
  },
  {
   "cell_type": "code",
   "execution_count": null,
   "metadata": {},
   "outputs": [],
   "source": [
    "page = 1\n",
    "n_th = 1"
   ]
  },
  {
   "cell_type": "code",
   "execution_count": null,
   "metadata": {},
   "outputs": [],
   "source": [
    "num_page = len(bs.find('ul',class_='pagination').find_all('a'))\n",
    "num_page"
   ]
  },
  {
   "cell_type": "code",
   "execution_count": null,
   "metadata": {},
   "outputs": [],
   "source": [
    "# Empty DataFrame 생성\n",
    "df = pd.DataFrame(columns=['name','addr','tel'])"
   ]
  },
  {
   "cell_type": "code",
   "execution_count": null,
   "metadata": {},
   "outputs": [],
   "source": [
    "while num_page == 9:\n",
    "    name_list = []\n",
    "    tel_list = []\n",
    "    addr_list = []\n",
    "    \n",
    "    for name in bs.find_all('span', class_='name'):\n",
    "        name_list.append(name.text)\n",
    "    for tel in bs.find_all('span', class_='tel'):\n",
    "        tel_list.append(tel.text)\n",
    "    for addr in bs.find_all('address'):\n",
    "        addr_list.append(addr.text.replace(\"\\n\",\"\"))\n",
    "        \n",
    "    for i in range(len(name_list)):\n",
    "        df = df.append({'name':name_list[i], 'addr':addr_list[i], 'tel':tel_list[i]}, ignore_index=True)\n",
    "    \n",
    "    print (\"{}-page is finished\".format(page))\n",
    "    \n",
    "    page += 1\n",
    "    n_th += 1\n",
    "    driver.find_element_by_xpath(\"\"\"//*[@id=\"paging\"]/ul/a[{}]\"\"\".format(n_th+2)).click()\n",
    "    time.sleep(1)\n",
    "    \n",
    "    if n_th == 6:\n",
    "        n_th = 1\n",
    "        bs = BeautifulSoup(driver.page_source, 'html.parser')\n",
    "        time.sleep(3)\n",
    "        num_page = len(bs.find('ul',class_='pagination').find_all('a'))\n",
    "    else:\n",
    "        bs = BeautifulSoup(driver.page_source, 'html.parser')\n",
    "        time.sleep(3)\n",
    "        \n",
    "    if page % 20 == 0:\n",
    "        time.sleep(5)\n",
    "    if page % 50 == 0:\n",
    "        time.sleep(7)\n",
    "    if page % 100 == 0:\n",
    "        time.sleep(10)\n",
    "    \n",
    "    if page == 13:\n",
    "        break\n",
    "    \n",
    "if page == 2656:\n",
    "    name_list = []\n",
    "    tel_list = []\n",
    "    addr_list = []\n",
    "    \n",
    "    for name in bs.find_all('span', class_='name'):\n",
    "        name_list.append(name.text)\n",
    "    for tel in bs.find_all('span', class_='tel'):\n",
    "        tel_list.append(tel.text)\n",
    "    for addr in bs.find_all('address'):\n",
    "        addr_list.append(addr.text.replace(\"\\n\",\"\"))\n",
    "        \n",
    "    for i in range(len(name_list)):\n",
    "        df = df.append({'name':name_list[i], 'addr':addr_list[i], 'tel':tel_list[i]}, ignore_index=True)"
   ]
  },
  {
   "cell_type": "code",
   "execution_count": null,
   "metadata": {},
   "outputs": [],
   "source": [
    "df"
   ]
  },
  {
   "cell_type": "markdown",
   "metadata": {},
   "source": [
    "# 세븐일레븐"
   ]
  },
  {
   "cell_type": "code",
   "execution_count": null,
   "metadata": {},
   "outputs": [],
   "source": [
    "from selenium.webdriver.support.select import Select\n",
    "from selenium import webdriver\n",
    "from bs4 import BeautifulSoup\n",
    "import pandas as pd\n",
    "import time"
   ]
  },
  {
   "cell_type": "code",
   "execution_count": null,
   "metadata": {},
   "outputs": [],
   "source": [
    "# 세븐일레븐 매장 찾기\n",
    "driver = webdriver.Chrome('C:/Users/ds.sin/Desktop/Python/crawling/chromedriver')\n",
    "driver.get('http://www.7-eleven.co.kr/')"
   ]
  },
  {
   "cell_type": "code",
   "execution_count": null,
   "metadata": {},
   "outputs": [],
   "source": [
    "# 매장찾기\n",
    "driver.find_element_by_xpath(\"\"\"//*[@id=\"header\"]/div/div/div[1]/a[1]\"\"\").click()"
   ]
  },
  {
   "cell_type": "code",
   "execution_count": null,
   "metadata": {},
   "outputs": [],
   "source": [
    "df = pd.DataFrame(columns=['name','addr'])"
   ]
  },
  {
   "cell_type": "code",
   "execution_count": null,
   "metadata": {},
   "outputs": [],
   "source": [
    "select_sido = Select(driver.find_element_by_id(\"storeLaySido\"))\n",
    "num_sido = len(select_sido.options)"
   ]
  },
  {
   "cell_type": "code",
   "execution_count": null,
   "metadata": {},
   "outputs": [],
   "source": [
    "for i in range(1, num_sido):\n",
    "    select_sido = Select(driver.find_element_by_id(\"storeLaySido\"))\n",
    "    time.sleep(0.1)\n",
    "    select_sido.select_by_index(i)\n",
    "    time.sleep(1)\n",
    "    select_gu = Select(driver.find_element_by_id(\"storeLayGu\"))\n",
    "    time.sleep(0.1)\n",
    "    num_gu = len(select_gu.options)\n",
    "    for j in range(1, num_gu):\n",
    "        select_gu = Select(driver.find_element_by_id(\"storeLayGu\"))\n",
    "        time.sleep(0.1)\n",
    "        select_gu.select_by_index(j)\n",
    "        time.sleep(1)\n",
    "        driver.find_element_by_xpath(\"\"\"//*[@id=\"storeButton1\"]\"\"\").click()\n",
    "        time.sleep(1)\n",
    "        bs = BeautifulSoup(driver.page_source, 'html.parser')\n",
    "        time.sleep(3)\n",
    "        temp = 0\n",
    "        for t in bs.find('div',class_='list_stroe').find_all('span'):\n",
    "            temp += 1\n",
    "            if temp % 3 == 1:\n",
    "                name = t.text.replace(\"\\n\",\"\")\n",
    "                name = name.replace(\"\\t\",\"\")\n",
    "            elif temp % 3 == 2:\n",
    "                addr = t.text.replace(\"\\n\",\"\")\n",
    "            else:\n",
    "                df = df.append({'name':name, 'addr':addr}, ignore_index=True)\n",
    "        if j % 10 == 0:\n",
    "            time.sleep(5)\n",
    "    time.sleep(10)\n",
    "# 세종특별자치시는 구/군 index 1이 없어서 안되므로 추가 작업 필요"
   ]
  },
  {
   "cell_type": "code",
   "execution_count": null,
   "metadata": {},
   "outputs": [],
   "source": [
    "s1=df.name\n",
    "s2 = df['addr'].map(lambda x : x.replace('\\xa0', ' '))\n",
    "new_df = pd.DataFrame({'name':s1, 'addr':s2})"
   ]
  },
  {
   "cell_type": "code",
   "execution_count": null,
   "metadata": {},
   "outputs": [],
   "source": [
    "new_df.to_csv('C:/Users/ds.sin/Desktop/Top_brand/seveneleven.csv', encoding='cp949', index=False)"
   ]
  },
  {
   "cell_type": "markdown",
   "metadata": {},
   "source": [
    "# 온누리약국"
   ]
  },
  {
   "cell_type": "code",
   "execution_count": null,
   "metadata": {},
   "outputs": [],
   "source": [
    "from bs4 import BeautifulSoup\n",
    "import requests\n",
    "import pandas as pd\n",
    "import time"
   ]
  },
  {
   "cell_type": "code",
   "execution_count": null,
   "metadata": {},
   "outputs": [],
   "source": [
    "base_url = 'http://www.onnuri.co.kr/store/store_01_sub.jsp?field=store_name&field_value=&store_name=&add1=&city_s_name=&city_l_name=&goo_name=&page='"
   ]
  },
  {
   "cell_type": "code",
   "execution_count": null,
   "metadata": {},
   "outputs": [],
   "source": [
    "df = pd.DataFrame(columns=['name','addr','tel'])"
   ]
  },
  {
   "cell_type": "code",
   "execution_count": null,
   "metadata": {
    "scrolled": true
   },
   "outputs": [],
   "source": [
    "for i in range(1,206):\n",
    "    new_url = base_url + str(i)\n",
    "    req = requests.get(new_url)\n",
    "    html = req.content\n",
    "    soup = BeautifulSoup(html, 'html.parser')\n",
    "    for s in soup.find_all('table', attrs={'height':30}):\n",
    "        name = s.find_all('td')[1].text\n",
    "        name = name.replace('\\n','').replace('\\r','').replace('\\t','').strip()\n",
    "        addr = s.find_all('td')[3].text\n",
    "        tel = s.find_all('td')[4].text\n",
    "        tel = tel.replace('\\n','').strip()\n",
    "        df = df.append({'name':name, 'addr':addr, 'tel':tel}, ignore_index=True)\n",
    "    print ('{} is finished'.format(i))\n",
    "    \n",
    "    if i % 10 == 0:\n",
    "        time.sleep(2)\n",
    "    if i % 50 == 0:\n",
    "        time.sleep(5)\n",
    "    if i % 100 == 0:\n",
    "        time.sleep(10)"
   ]
  },
  {
   "cell_type": "code",
   "execution_count": null,
   "metadata": {},
   "outputs": [],
   "source": [
    "df.to_csv('C:/Users/ds.sin/Desktop/Top_brand/onnuri.csv', encoding='cp949', index=False)"
   ]
  },
  {
   "cell_type": "markdown",
   "metadata": {},
   "source": [
    "# 파리바게트"
   ]
  },
  {
   "cell_type": "code",
   "execution_count": null,
   "metadata": {},
   "outputs": [],
   "source": [
    "from bs4 import BeautifulSoup\n",
    "import requests\n",
    "import pandas as pd\n",
    "import time"
   ]
  },
  {
   "cell_type": "code",
   "execution_count": null,
   "metadata": {},
   "outputs": [],
   "source": [
    "df = pd.DataFrame(columns=['name','addr','tel'])"
   ]
  },
  {
   "cell_type": "code",
   "execution_count": null,
   "metadata": {},
   "outputs": [],
   "source": [
    "base_url = 'https://www.paris.co.kr/shop/search.jsp?s_sido={}&s_gugun=&s_name='"
   ]
  },
  {
   "cell_type": "code",
   "execution_count": null,
   "metadata": {},
   "outputs": [],
   "source": [
    "sido = ['강원도','경기도','경상남도','경상북도','광주광역시','대구광역시','대전광역시',\n",
    "        '부산광역시','서울특별시','세종특별자치시','울산광역시','인천광역시','전라남도',\n",
    "        '전라북도','제주특별자치도','충청남도','충청북도']\n",
    "print (\"시/도 개수 :\",len(sido))"
   ]
  },
  {
   "cell_type": "code",
   "execution_count": null,
   "metadata": {},
   "outputs": [],
   "source": [
    "for i in range(len(sido)):\n",
    "    print (sido[i])\n",
    "    req = requests.get(base_url.format(sido[i]))\n",
    "    html = req.content\n",
    "    soup = BeautifulSoup(html, 'html.parser')\n",
    "    num_store = len(soup.find('div', class_='shop_list_box').find_all('strong'))\n",
    "    print ('매장 수 :',num_store)\n",
    "    for s in range(num_store):\n",
    "        info = soup.find('div', class_='shop_list_box')\n",
    "        name = info.find_all('strong')[s].text\n",
    "        name = name.replace('\\r','').replace('\\n','').replace('\\t','').strip()\n",
    "        addr = info.find_all('p')[s].contents[0]\n",
    "        addr = addr.replace('\\r','').replace('\\n','').replace('\\t','').strip()\n",
    "        tel = info.find_all('p')[s].contents[2]\n",
    "        tel = tel.replace('\\r','').replace('\\n','').replace('\\t','').strip()\n",
    "        df = df.append({'name':name, 'addr':addr, 'tel':tel}, ignore_index=True)\n",
    "    print ('-----------------------------------------------')\n",
    "    time.sleep(10)"
   ]
  },
  {
   "cell_type": "code",
   "execution_count": null,
   "metadata": {},
   "outputs": [],
   "source": [
    "df"
   ]
  },
  {
   "cell_type": "code",
   "execution_count": null,
   "metadata": {},
   "outputs": [],
   "source": [
    "df.to_csv('C:/Users/ds.sin/Desktop/Top_brand/parisbaguette.csv', encoding='cp949', index=False)"
   ]
  },
  {
   "cell_type": "markdown",
   "metadata": {},
   "source": [
    "# 미니스톱"
   ]
  },
  {
   "cell_type": "code",
   "execution_count": 1,
   "metadata": {},
   "outputs": [],
   "source": [
    "from selenium.webdriver.support.select import Select\n",
    "from selenium import webdriver\n",
    "from bs4 import BeautifulSoup\n",
    "import pandas as pd\n",
    "import time"
   ]
  },
  {
   "cell_type": "code",
   "execution_count": 2,
   "metadata": {},
   "outputs": [],
   "source": [
    "driver = webdriver.Chrome('C:/Users/ds.sin/Desktop/Python/crawling/chromedriver')\n",
    "driver.get('https://www.ministop.co.kr/MiniStopHomePage/page/store/store.do')"
   ]
  },
  {
   "cell_type": "code",
   "execution_count": 3,
   "metadata": {},
   "outputs": [],
   "source": [
    "# Banner close\n",
    "driver.find_element_by_xpath(\"\"\"//*[@id=\"floatbanner\"]/div[1]/span[2]\"\"\").click()"
   ]
  },
  {
   "cell_type": "code",
   "execution_count": 4,
   "metadata": {},
   "outputs": [],
   "source": [
    "# Select box\n",
    "select_sido = Select(driver.find_element_by_id(\"area1\"))"
   ]
  },
  {
   "cell_type": "code",
   "execution_count": 5,
   "metadata": {},
   "outputs": [],
   "source": [
    "num_sido = len(select_sido.options)"
   ]
  },
  {
   "cell_type": "code",
   "execution_count": 6,
   "metadata": {},
   "outputs": [
    {
     "name": "stdout",
     "output_type": "stream",
     "text": [
      "17\n"
     ]
    }
   ],
   "source": [
    "print (num_sido)"
   ]
  },
  {
   "cell_type": "code",
   "execution_count": 7,
   "metadata": {},
   "outputs": [],
   "source": [
    "df = pd.DataFrame(columns=['name','addr','tel'])"
   ]
  },
  {
   "cell_type": "code",
   "execution_count": 8,
   "metadata": {},
   "outputs": [
    {
     "name": "stdout",
     "output_type": "stream",
     "text": [
      "done\n",
      "done\n",
      "done\n",
      "done\n",
      "done\n",
      "done\n",
      "done\n",
      "done\n",
      "done\n",
      "done\n",
      "done\n",
      "done\n",
      "done\n",
      "done\n",
      "done\n",
      "done\n"
     ]
    }
   ],
   "source": [
    "for i in range(1,num_sido):\n",
    "    select_sido = Select(driver.find_element_by_id(\"area1\"))\n",
    "    time.sleep(1)\n",
    "    select_sido.select_by_index(i)\n",
    "    time.sleep(2)\n",
    "    driver.find_element_by_xpath(\"\"\"//*[@id=\"section\"]/div[3]/div/div[2]/div[2]/div[1]/a\"\"\").click()\n",
    "    time.sleep(2)\n",
    "    bs = BeautifulSoup(driver.page_source, 'html.parser')\n",
    "    time.sleep(3)\n",
    "    info = bs.find('div', class_='area').find_all('li')\n",
    "    for j in info:\n",
    "        name = j.contents[0]\n",
    "        name = name.replace('\\n','').replace('\\t','').strip()\n",
    "        addr = j.contents[2]\n",
    "        addr = addr.replace('\\n','').replace('\\t','').strip()\n",
    "        tel = j.contents[4]\n",
    "        tel = tel.replace('\\n','').replace('\\t','').strip()\n",
    "        df = df.append({'name':name, 'addr':addr, 'tel':tel}, ignore_index=True)\n",
    "    print ('done')"
   ]
  },
  {
   "cell_type": "code",
   "execution_count": 9,
   "metadata": {},
   "outputs": [],
   "source": [
    "driver.close()"
   ]
  },
  {
   "cell_type": "code",
   "execution_count": 11,
   "metadata": {},
   "outputs": [],
   "source": [
    "df.to_csv('C:/Users/ds.sin/Desktop/Top_brand/ministop.csv', encoding='cp949', index=False)"
   ]
  }
 ],
 "metadata": {
  "kernelspec": {
   "display_name": "Python 3",
   "language": "python",
   "name": "python3"
  },
  "language_info": {
   "codemirror_mode": {
    "name": "ipython",
    "version": 3
   },
   "file_extension": ".py",
   "mimetype": "text/x-python",
   "name": "python",
   "nbconvert_exporter": "python",
   "pygments_lexer": "ipython3",
   "version": "3.7.1"
  }
 },
 "nbformat": 4,
 "nbformat_minor": 2
}
